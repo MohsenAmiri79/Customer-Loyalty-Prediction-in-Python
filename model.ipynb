{
 "cells": [
  {
   "cell_type": "markdown",
   "metadata": {},
   "source": [
    "##### 0.1. Importing all the needed libraries"
   ]
  },
  {
   "cell_type": "code",
   "execution_count": 1,
   "metadata": {},
   "outputs": [],
   "source": [
    "from matplotlib import pyplot as plt\n",
    "from sklearn.model_selection import train_test_split as tts\n",
    "from torch.utils.data import Dataset, DataLoader\n",
    "from torch import nn\n",
    "from torch import optim\n",
    "import numpy as np\n",
    "import pandas as pd\n",
    "import torch\n",
    "import optuna\n",
    "import os"
   ]
  },
  {
   "cell_type": "markdown",
   "metadata": {},
   "source": [
    "##### 0.2. Setting some global settins"
   ]
  },
  {
   "cell_type": "code",
   "execution_count": 2,
   "metadata": {},
   "outputs": [],
   "source": [
    "%matplotlib ipympl"
   ]
  },
  {
   "cell_type": "markdown",
   "metadata": {},
   "source": [
    "##### 0.3. Importing the data file\n"
   ]
  },
  {
   "cell_type": "markdown",
   "metadata": {},
   "source": [
    "##### 1.1. Building the Neural Network"
   ]
  },
  {
   "cell_type": "code",
   "execution_count": 3,
   "metadata": {},
   "outputs": [],
   "source": [
    "def clp_network(trial=False, n_layers=-1, units=[]):\n",
    "    \n",
    "    custom_network = not trial and len(units) == n_layers\n",
    "\n",
    "    if not custom_network: n_layers = trial.suggest_int(\"n_layers\", 2, 5)\n",
    "    layers = []\n",
    "\n",
    "    in_features = 6\n",
    "    \n",
    "    for i in range(n_layers):\n",
    "        \n",
    "        if custom_network: out_features = units[i]\n",
    "        else: out_features = trial.suggest_int(\"n_units_l{}\".format(i), 4, 10)\n",
    "        \n",
    "        layers.append(nn.Linear(in_features, out_features))\n",
    "        layers.append(nn.LeakyReLU())\n",
    "\n",
    "        in_features = out_features\n",
    "        \n",
    "    layers.append(nn.Linear(in_features, 2))\n",
    "    layers.append(nn.LeakyReLU())\n",
    "    \n",
    "    return nn.Sequential(*layers)"
   ]
  },
  {
   "cell_type": "markdown",
   "metadata": {},
   "source": [
    "##### 1.2. Making a Dataset class"
   ]
  },
  {
   "cell_type": "code",
   "execution_count": 4,
   "metadata": {},
   "outputs": [],
   "source": [
    "class clp_dataset(Dataset):\n",
    "\n",
    "    def __init__(self, df):\n",
    "        self.labels = [label for label in df['loyalty']]\n",
    "        self.features = df.drop(columns=['loyalty'], axis=1).values.tolist()\n",
    "\n",
    "    def classes(self):\n",
    "        return self.labels\n",
    "\n",
    "    def __len__(self):\n",
    "        return len(self.labels)\n",
    "\n",
    "    def get_batch_labels(self, idx):\n",
    "        return np.array(self.labels[idx])\n",
    "\n",
    "    def get_batch_features(self, idx):\n",
    "        return np.array(self.features[idx])\n",
    "\n",
    "    def __getitem__(self, idx):\n",
    "        batch_features = self.get_batch_features(idx)\n",
    "        batch_y = self.get_batch_labels(idx)\n",
    "\n",
    "        return batch_features, batch_y"
   ]
  },
  {
   "cell_type": "markdown",
   "metadata": {},
   "source": [
    "##### 1.3. Training and evaluation of the model"
   ]
  },
  {
   "cell_type": "code",
   "execution_count": 5,
   "metadata": {},
   "outputs": [],
   "source": [
    "def train_and_evaluate(param, model, trial=False):\n",
    "\n",
    "    # extracting parameters\n",
    "    if 'n_epochs' in param: n_epochs = param['n_epochs']\n",
    "    else: n_epochs = 50 # DEFAULT VALUE\n",
    "\n",
    "    if 'batch_size' in param: batch_size = param['batch_size']\n",
    "    else: batch_size = 32 # DEFAULT VALUE\n",
    "    \n",
    "    # importing data from file\n",
    "    data_path = os.path.join(os.getcwd(), 'Data\\\\processed_customer_data.csv')\n",
    "    data = pd.read_csv(data_path)\n",
    "    data.drop(columns='ID', inplace=True)\n",
    "    \n",
    "    train_data, val_data = tts(data, test_size = 0.2)\n",
    "    train, val = clp_dataset(train_data), clp_dataset(val_data)\n",
    "\n",
    "    train_dataloader = torch.utils.data.DataLoader(train, batch_size=batch_size, shuffle=True)\n",
    "    val_dataloader = torch.utils.data.DataLoader(val, batch_size=batch_size)\n",
    "\n",
    "    use_cuda = torch.cuda.is_available()\n",
    "    device = torch.device(\"cuda\" if use_cuda else \"cpu\")\n",
    "\n",
    "    criterion = nn.CrossEntropyLoss()\n",
    "    optimizer = getattr(optim, param['optimizer'])(model.parameters(), lr= param['learning_rate'])\n",
    "\n",
    "    if use_cuda:\n",
    "\n",
    "            model = model.cuda()\n",
    "            criterion = criterion.cuda()\n",
    "\n",
    "    for epoch_num in range(n_epochs):\n",
    "\n",
    "            total_acc_train = 0\n",
    "            total_loss_train = 0\n",
    "\n",
    "            for train_input, train_label in train_dataloader:\n",
    "\n",
    "                train_label = train_label.to(device)\n",
    "                train_input = train_input.to(device)\n",
    "\n",
    "                output = model(train_input.float())\n",
    "                \n",
    "                batch_loss = criterion(output, train_label.long())\n",
    "                total_loss_train += batch_loss.item()\n",
    "                \n",
    "                acc = (output.argmax(dim=1) == train_label).sum().item()\n",
    "                total_acc_train += acc\n",
    "\n",
    "                model.zero_grad()\n",
    "                batch_loss.backward()\n",
    "                optimizer.step()\n",
    "            \n",
    "            total_acc_val = 0\n",
    "            total_loss_val = 0\n",
    "\n",
    "            with torch.no_grad():\n",
    "\n",
    "                for val_input, val_label in val_dataloader:\n",
    "\n",
    "                    val_label = val_label.to(device)\n",
    "                    val_input = val_input.to(device)\n",
    "\n",
    "                    output = model(val_input.float())\n",
    "\n",
    "                    batch_loss = criterion(output, val_label.long())\n",
    "                    total_loss_val += batch_loss.item()\n",
    "                    \n",
    "                    acc = (output.argmax(dim=1) == val_label).sum().item()\n",
    "                    total_acc_val += acc\n",
    "            \n",
    "            accuracy = total_acc_val/len(val_data)\n",
    "            \n",
    "            # Add prune mechanism\n",
    "            if trial:\n",
    "                trial.report(accuracy, epoch_num)\n",
    "\n",
    "                if trial.should_prune():\n",
    "                    raise optuna.exceptions.TrialPruned()\n",
    "\n",
    "    return accuracy, model"
   ]
  },
  {
   "cell_type": "markdown",
   "metadata": {},
   "source": [
    "##### 1.4. Making the objective function"
   ]
  },
  {
   "cell_type": "code",
   "execution_count": 6,
   "metadata": {},
   "outputs": [],
   "source": [
    "models = dict()\n",
    "def objective(trial, n_epochs, batch_size):\n",
    "     params = {\n",
    "              'learning_rate': trial.suggest_loguniform('learning_rate', 1e-5, 1e-1),\n",
    "              'optimizer': trial.suggest_categorical(\"optimizer\", [\"Adam\", \"RMSprop\", \"SGD\"]),\n",
    "              'n_epochs': n_epochs,\n",
    "              'batch_size': batch_size\n",
    "              }\n",
    "     model = clp_network(trial)\n",
    "     accuracy, model = train_and_evaluate(params, model, trial)\n",
    "     if accuracy > models['accuracy']:\n",
    "          models['accuracy'] = accuracy\n",
    "          models['model'] = model\n",
    "     \n",
    "     return accuracy"
   ]
  },
  {
   "cell_type": "code",
   "execution_count": 7,
   "metadata": {},
   "outputs": [
    {
     "name": "stderr",
     "output_type": "stream",
     "text": [
      "\u001b[32m[I 2022-08-30 17:15:57,148]\u001b[0m A new study created in memory with name: no-name-bad6570a-7be4-40ee-87bf-590643691cf8\u001b[0m\n",
      "c:\\Users\\Mohsen\\anaconda3\\envs\\CLP\\lib\\site-packages\\optuna\\progress_bar.py:47: ExperimentalWarning: Progress bar is experimental (supported from v1.2.0). The interface can change in the future.\n",
      "  self._init_valid()\n"
     ]
    },
    {
     "data": {
      "application/vnd.jupyter.widget-view+json": {
       "model_id": "530527022a7e494a9a32ed0cd6985bf4",
       "version_major": 2,
       "version_minor": 0
      },
      "text/plain": [
       "  0%|          | 0/25 [00:00<?, ?it/s]"
      ]
     },
     "metadata": {},
     "output_type": "display_data"
    },
    {
     "name": "stdout",
     "output_type": "stream",
     "text": [
      "\u001b[32m[I 2022-08-30 17:16:12,862]\u001b[0m Trial 0 finished with value: 0.2785714285714286 and parameters: {'learning_rate': 1.4809108109381629e-05, 'optimizer': 'RMSprop', 'n_layers': 2, 'n_units_l0': 8, 'n_units_l1': 8}. Best is trial 0 with value: 0.2785714285714286.\u001b[0m\n",
      "\u001b[32m[I 2022-08-30 17:16:29,582]\u001b[0m Trial 1 finished with value: 0.7571428571428571 and parameters: {'learning_rate': 3.254690586590479e-05, 'optimizer': 'RMSprop', 'n_layers': 3, 'n_units_l0': 10, 'n_units_l1': 10, 'n_units_l2': 6}. Best is trial 1 with value: 0.7571428571428571.\u001b[0m\n",
      "\u001b[32m[I 2022-08-30 17:16:52,485]\u001b[0m Trial 2 finished with value: 0.8428571428571429 and parameters: {'learning_rate': 0.0008010846474800237, 'optimizer': 'RMSprop', 'n_layers': 5, 'n_units_l0': 8, 'n_units_l1': 9, 'n_units_l2': 8, 'n_units_l3': 7, 'n_units_l4': 5}. Best is trial 2 with value: 0.8428571428571429.\u001b[0m\n",
      "\u001b[32m[I 2022-08-30 17:17:22,148]\u001b[0m Trial 3 finished with value: 0.7857142857142857 and parameters: {'learning_rate': 0.004031366440002547, 'optimizer': 'Adam', 'n_layers': 5, 'n_units_l0': 6, 'n_units_l1': 6, 'n_units_l2': 8, 'n_units_l3': 10, 'n_units_l4': 5}. Best is trial 2 with value: 0.8428571428571429.\u001b[0m\n",
      "\u001b[32m[I 2022-08-30 17:17:40,265]\u001b[0m Trial 4 finished with value: 0.75 and parameters: {'learning_rate': 5.501915318726435e-05, 'optimizer': 'Adam', 'n_layers': 2, 'n_units_l0': 10, 'n_units_l1': 8}. Best is trial 2 with value: 0.8428571428571429.\u001b[0m\n",
      "\u001b[32m[I 2022-08-30 17:18:05,370]\u001b[0m Trial 5 finished with value: 0.8357142857142857 and parameters: {'learning_rate': 0.012225951625965173, 'optimizer': 'RMSprop', 'n_layers': 5, 'n_units_l0': 4, 'n_units_l1': 6, 'n_units_l2': 7, 'n_units_l3': 10, 'n_units_l4': 5}. Best is trial 2 with value: 0.8428571428571429.\u001b[0m\n",
      "\u001b[32m[I 2022-08-30 17:18:27,646]\u001b[0m Trial 6 finished with value: 0.7714285714285715 and parameters: {'learning_rate': 0.07777582804727469, 'optimizer': 'Adam', 'n_layers': 3, 'n_units_l0': 4, 'n_units_l1': 5, 'n_units_l2': 4}. Best is trial 2 with value: 0.8428571428571429.\u001b[0m\n",
      "\u001b[32m[I 2022-08-30 17:18:32,708]\u001b[0m Trial 7 pruned. \u001b[0m\n",
      "\u001b[32m[I 2022-08-30 17:18:33,842]\u001b[0m Trial 8 pruned. \u001b[0m\n",
      "\u001b[32m[I 2022-08-30 17:18:34,820]\u001b[0m Trial 9 pruned. \u001b[0m\n",
      "\u001b[32m[I 2022-08-30 17:18:35,432]\u001b[0m Trial 10 pruned. \u001b[0m\n",
      "\u001b[32m[I 2022-08-30 17:18:36,270]\u001b[0m Trial 11 pruned. \u001b[0m\n",
      "\u001b[32m[I 2022-08-30 17:18:43,234]\u001b[0m Trial 12 pruned. \u001b[0m\n",
      "\u001b[32m[I 2022-08-30 17:18:50,252]\u001b[0m Trial 13 pruned. \u001b[0m\n",
      "\u001b[32m[I 2022-08-30 17:18:51,043]\u001b[0m Trial 14 pruned. \u001b[0m\n",
      "\u001b[32m[I 2022-08-30 17:18:51,986]\u001b[0m Trial 15 pruned. \u001b[0m\n",
      "\u001b[32m[I 2022-08-30 17:19:11,342]\u001b[0m Trial 16 finished with value: 0.7928571428571428 and parameters: {'learning_rate': 0.014110097300009738, 'optimizer': 'RMSprop', 'n_layers': 3, 'n_units_l0': 5, 'n_units_l1': 6, 'n_units_l2': 7}. Best is trial 2 with value: 0.8428571428571429.\u001b[0m\n",
      "\u001b[32m[I 2022-08-30 17:19:11,951]\u001b[0m Trial 17 pruned. \u001b[0m\n",
      "\u001b[32m[I 2022-08-30 17:19:12,851]\u001b[0m Trial 18 pruned. \u001b[0m\n",
      "\u001b[32m[I 2022-08-30 17:19:13,641]\u001b[0m Trial 19 pruned. \u001b[0m\n",
      "\u001b[32m[I 2022-08-30 17:19:14,311]\u001b[0m Trial 20 pruned. \u001b[0m\n",
      "\u001b[32m[I 2022-08-30 17:19:15,001]\u001b[0m Trial 21 pruned. \u001b[0m\n",
      "\u001b[32m[I 2022-08-30 17:19:33,885]\u001b[0m Trial 22 finished with value: 0.8428571428571429 and parameters: {'learning_rate': 0.059788191658122054, 'optimizer': 'RMSprop', 'n_layers': 3, 'n_units_l0': 4, 'n_units_l1': 5, 'n_units_l2': 7}. Best is trial 2 with value: 0.8428571428571429.\u001b[0m\n",
      "\u001b[32m[I 2022-08-30 17:19:34,465]\u001b[0m Trial 23 pruned. \u001b[0m\n"
     ]
    },
    {
     "name": "stderr",
     "output_type": "stream",
     "text": [
      "\u001b[32m[I 2022-08-30 17:19:35,175]\u001b[0m A new study created in memory with name: no-name-476c3221-ccfc-43ab-8b08-8f0546916769\u001b[0m\n"
     ]
    },
    {
     "name": "stdout",
     "output_type": "stream",
     "text": [
      "\u001b[32m[I 2022-08-30 17:19:35,168]\u001b[0m Trial 24 pruned. \u001b[0m\n"
     ]
    },
    {
     "name": "stderr",
     "output_type": "stream",
     "text": [
      "c:\\Users\\Mohsen\\anaconda3\\envs\\CLP\\lib\\site-packages\\optuna\\progress_bar.py:47: ExperimentalWarning: Progress bar is experimental (supported from v1.2.0). The interface can change in the future.\n",
      "  self._init_valid()\n"
     ]
    },
    {
     "data": {
      "application/vnd.jupyter.widget-view+json": {
       "model_id": "fb28d4ba0fde4f1494fa1467f16c5f88",
       "version_major": 2,
       "version_minor": 0
      },
      "text/plain": [
       "  0%|          | 0/25 [00:00<?, ?it/s]"
      ]
     },
     "metadata": {},
     "output_type": "display_data"
    },
    {
     "name": "stdout",
     "output_type": "stream",
     "text": [
      "\u001b[32m[I 2022-08-30 17:19:51,038]\u001b[0m Trial 0 finished with value: 0.8 and parameters: {'learning_rate': 0.00019214995300955896, 'optimizer': 'Adam', 'n_layers': 5, 'n_units_l0': 5, 'n_units_l1': 10, 'n_units_l2': 9, 'n_units_l3': 8, 'n_units_l4': 8}. Best is trial 0 with value: 0.8.\u001b[0m\n",
      "\u001b[32m[I 2022-08-30 17:20:00,722]\u001b[0m Trial 1 finished with value: 0.7214285714285714 and parameters: {'learning_rate': 0.0001734089464498609, 'optimizer': 'RMSprop', 'n_layers': 3, 'n_units_l0': 6, 'n_units_l1': 10, 'n_units_l2': 5}. Best is trial 0 with value: 0.8.\u001b[0m\n",
      "\u001b[32m[I 2022-08-30 17:20:12,744]\u001b[0m Trial 2 finished with value: 0.7428571428571429 and parameters: {'learning_rate': 0.014744488698143926, 'optimizer': 'RMSprop', 'n_layers': 4, 'n_units_l0': 7, 'n_units_l1': 10, 'n_units_l2': 9, 'n_units_l3': 9}. Best is trial 0 with value: 0.8.\u001b[0m\n",
      "\u001b[32m[I 2022-08-30 17:20:21,517]\u001b[0m Trial 3 finished with value: 0.7357142857142858 and parameters: {'learning_rate': 0.03382912217368988, 'optimizer': 'SGD', 'n_layers': 4, 'n_units_l0': 5, 'n_units_l1': 7, 'n_units_l2': 7, 'n_units_l3': 5}. Best is trial 0 with value: 0.8.\u001b[0m\n",
      "\u001b[32m[I 2022-08-30 17:20:29,189]\u001b[0m Trial 4 finished with value: 0.7642857142857142 and parameters: {'learning_rate': 0.0005946717124900927, 'optimizer': 'SGD', 'n_layers': 3, 'n_units_l0': 7, 'n_units_l1': 5, 'n_units_l2': 10}. Best is trial 0 with value: 0.8.\u001b[0m\n",
      "\u001b[32m[I 2022-08-30 17:20:32,464]\u001b[0m Trial 5 pruned. \u001b[0m\n",
      "\u001b[32m[I 2022-08-30 17:20:32,779]\u001b[0m Trial 6 pruned. \u001b[0m\n",
      "\u001b[32m[I 2022-08-30 17:20:45,581]\u001b[0m Trial 7 finished with value: 0.7785714285714286 and parameters: {'learning_rate': 0.0004185301744832743, 'optimizer': 'RMSprop', 'n_layers': 5, 'n_units_l0': 5, 'n_units_l1': 7, 'n_units_l2': 5, 'n_units_l3': 10, 'n_units_l4': 10}. Best is trial 0 with value: 0.8.\u001b[0m\n",
      "\u001b[32m[I 2022-08-30 17:20:48,318]\u001b[0m Trial 8 pruned. \u001b[0m\n",
      "\u001b[32m[I 2022-08-30 17:20:58,009]\u001b[0m Trial 9 finished with value: 0.8071428571428572 and parameters: {'learning_rate': 0.001881807216031192, 'optimizer': 'Adam', 'n_layers': 2, 'n_units_l0': 9, 'n_units_l1': 9}. Best is trial 9 with value: 0.8071428571428572.\u001b[0m\n",
      "\u001b[32m[I 2022-08-30 17:21:07,748]\u001b[0m Trial 10 finished with value: 0.8 and parameters: {'learning_rate': 0.004549268297537618, 'optimizer': 'Adam', 'n_layers': 2, 'n_units_l0': 10, 'n_units_l1': 8}. Best is trial 9 with value: 0.8071428571428572.\u001b[0m\n",
      "\u001b[32m[I 2022-08-30 17:21:13,082]\u001b[0m Trial 11 pruned. \u001b[0m\n",
      "\u001b[32m[I 2022-08-30 17:21:13,474]\u001b[0m Trial 12 pruned. \u001b[0m\n",
      "\u001b[32m[I 2022-08-30 17:21:14,063]\u001b[0m Trial 13 pruned. \u001b[0m\n",
      "\u001b[32m[I 2022-08-30 17:21:14,626]\u001b[0m Trial 14 pruned. \u001b[0m\n",
      "\u001b[32m[I 2022-08-30 17:21:15,079]\u001b[0m Trial 15 pruned. \u001b[0m\n",
      "\u001b[32m[I 2022-08-30 17:21:31,642]\u001b[0m Trial 16 finished with value: 0.8285714285714286 and parameters: {'learning_rate': 0.000982510810251156, 'optimizer': 'Adam', 'n_layers': 5, 'n_units_l0': 6, 'n_units_l1': 9, 'n_units_l2': 6, 'n_units_l3': 8, 'n_units_l4': 4}. Best is trial 16 with value: 0.8285714285714286.\u001b[0m\n",
      "\u001b[32m[I 2022-08-30 17:21:32,023]\u001b[0m Trial 17 pruned. \u001b[0m\n",
      "\u001b[32m[I 2022-08-30 17:21:32,482]\u001b[0m Trial 18 pruned. \u001b[0m\n",
      "\u001b[32m[I 2022-08-30 17:21:33,027]\u001b[0m Trial 19 pruned. \u001b[0m\n",
      "\u001b[32m[I 2022-08-30 17:21:33,266]\u001b[0m Trial 20 pruned. \u001b[0m\n",
      "\u001b[32m[I 2022-08-30 17:21:33,896]\u001b[0m Trial 21 pruned. \u001b[0m\n",
      "\u001b[32m[I 2022-08-30 17:21:34,526]\u001b[0m Trial 22 pruned. \u001b[0m\n",
      "\u001b[32m[I 2022-08-30 17:21:38,088]\u001b[0m Trial 23 pruned. \u001b[0m\n"
     ]
    },
    {
     "name": "stderr",
     "output_type": "stream",
     "text": [
      "\u001b[32m[I 2022-08-30 17:21:41,361]\u001b[0m A new study created in memory with name: no-name-ada93909-e8e8-40c8-b68f-f005e3a4df59\u001b[0m\n"
     ]
    },
    {
     "name": "stdout",
     "output_type": "stream",
     "text": [
      "\u001b[32m[I 2022-08-30 17:21:41,357]\u001b[0m Trial 24 pruned. \u001b[0m\n"
     ]
    },
    {
     "name": "stderr",
     "output_type": "stream",
     "text": [
      "c:\\Users\\Mohsen\\anaconda3\\envs\\CLP\\lib\\site-packages\\optuna\\progress_bar.py:47: ExperimentalWarning: Progress bar is experimental (supported from v1.2.0). The interface can change in the future.\n",
      "  self._init_valid()\n"
     ]
    },
    {
     "data": {
      "application/vnd.jupyter.widget-view+json": {
       "model_id": "ae17371e06944a4a83687893303c6462",
       "version_major": 2,
       "version_minor": 0
      },
      "text/plain": [
       "  0%|          | 0/25 [00:00<?, ?it/s]"
      ]
     },
     "metadata": {},
     "output_type": "display_data"
    },
    {
     "name": "stdout",
     "output_type": "stream",
     "text": [
      "\u001b[32m[I 2022-08-30 17:21:44,859]\u001b[0m Trial 0 finished with value: 0.7428571428571429 and parameters: {'learning_rate': 0.011092282556987543, 'optimizer': 'SGD', 'n_layers': 2, 'n_units_l0': 9, 'n_units_l1': 10}. Best is trial 0 with value: 0.7428571428571429.\u001b[0m\n",
      "\u001b[32m[I 2022-08-30 17:21:49,157]\u001b[0m Trial 1 finished with value: 0.7428571428571429 and parameters: {'learning_rate': 0.08891661424867915, 'optimizer': 'RMSprop', 'n_layers': 2, 'n_units_l0': 4, 'n_units_l1': 4}. Best is trial 0 with value: 0.7428571428571429.\u001b[0m\n",
      "\u001b[32m[I 2022-08-30 17:21:53,269]\u001b[0m Trial 2 finished with value: 0.7214285714285714 and parameters: {'learning_rate': 1.5185098639216003e-05, 'optimizer': 'SGD', 'n_layers': 3, 'n_units_l0': 8, 'n_units_l1': 4, 'n_units_l2': 7}. Best is trial 0 with value: 0.7428571428571429.\u001b[0m\n",
      "\u001b[32m[I 2022-08-30 17:21:57,889]\u001b[0m Trial 3 finished with value: 0.7357142857142858 and parameters: {'learning_rate': 0.0004547063110991294, 'optimizer': 'SGD', 'n_layers': 4, 'n_units_l0': 8, 'n_units_l1': 8, 'n_units_l2': 10, 'n_units_l3': 5}. Best is trial 0 with value: 0.7428571428571429.\u001b[0m\n",
      "\u001b[32m[I 2022-08-30 17:22:02,527]\u001b[0m Trial 4 finished with value: 0.7142857142857143 and parameters: {'learning_rate': 0.09070415989011296, 'optimizer': 'SGD', 'n_layers': 4, 'n_units_l0': 10, 'n_units_l1': 7, 'n_units_l2': 8, 'n_units_l3': 7}. Best is trial 0 with value: 0.7428571428571429.\u001b[0m\n",
      "\u001b[32m[I 2022-08-30 17:22:02,654]\u001b[0m Trial 5 pruned. \u001b[0m\n",
      "\u001b[32m[I 2022-08-30 17:22:09,583]\u001b[0m Trial 6 finished with value: 0.8142857142857143 and parameters: {'learning_rate': 0.00468723682340359, 'optimizer': 'RMSprop', 'n_layers': 5, 'n_units_l0': 4, 'n_units_l1': 5, 'n_units_l2': 9, 'n_units_l3': 7, 'n_units_l4': 4}. Best is trial 6 with value: 0.8142857142857143.\u001b[0m\n",
      "\u001b[32m[I 2022-08-30 17:22:13,184]\u001b[0m Trial 7 finished with value: 0.7642857142857142 and parameters: {'learning_rate': 0.024164764841880234, 'optimizer': 'SGD', 'n_layers': 2, 'n_units_l0': 8, 'n_units_l1': 6}. Best is trial 6 with value: 0.8142857142857143.\u001b[0m\n",
      "\u001b[32m[I 2022-08-30 17:22:21,521]\u001b[0m Trial 8 finished with value: 0.8 and parameters: {'learning_rate': 1.240037351240406e-05, 'optimizer': 'Adam', 'n_layers': 5, 'n_units_l0': 4, 'n_units_l1': 7, 'n_units_l2': 5, 'n_units_l3': 8, 'n_units_l4': 9}. Best is trial 6 with value: 0.8142857142857143.\u001b[0m\n",
      "\u001b[32m[I 2022-08-30 17:22:27,636]\u001b[0m Trial 9 finished with value: 0.7714285714285715 and parameters: {'learning_rate': 0.016323321823123963, 'optimizer': 'Adam', 'n_layers': 3, 'n_units_l0': 4, 'n_units_l1': 4, 'n_units_l2': 5}. Best is trial 6 with value: 0.8142857142857143.\u001b[0m\n",
      "\u001b[32m[I 2022-08-30 17:22:27,914]\u001b[0m Trial 10 pruned. \u001b[0m\n",
      "\u001b[32m[I 2022-08-30 17:22:28,264]\u001b[0m Trial 11 pruned. \u001b[0m\n",
      "\u001b[32m[I 2022-08-30 17:22:28,591]\u001b[0m Trial 12 pruned. \u001b[0m\n",
      "\u001b[32m[I 2022-08-30 17:22:28,842]\u001b[0m Trial 13 pruned. \u001b[0m\n",
      "\u001b[32m[I 2022-08-30 17:22:29,129]\u001b[0m Trial 14 pruned. \u001b[0m\n",
      "\u001b[32m[I 2022-08-30 17:22:36,654]\u001b[0m Trial 15 finished with value: 0.7714285714285715 and parameters: {'learning_rate': 5.9934917424634626e-05, 'optimizer': 'Adam', 'n_layers': 4, 'n_units_l0': 5, 'n_units_l1': 5, 'n_units_l2': 6, 'n_units_l3': 7}. Best is trial 6 with value: 0.8142857142857143.\u001b[0m\n",
      "\u001b[32m[I 2022-08-30 17:22:36,953]\u001b[0m Trial 16 pruned. \u001b[0m\n",
      "\u001b[32m[I 2022-08-30 17:22:37,317]\u001b[0m Trial 17 pruned. \u001b[0m\n",
      "\u001b[32m[I 2022-08-30 17:22:37,539]\u001b[0m Trial 18 pruned. \u001b[0m\n",
      "\u001b[32m[I 2022-08-30 17:22:37,866]\u001b[0m Trial 19 pruned. \u001b[0m\n",
      "\u001b[32m[I 2022-08-30 17:22:38,193]\u001b[0m Trial 20 pruned. \u001b[0m\n",
      "\u001b[32m[I 2022-08-30 17:22:44,616]\u001b[0m Trial 21 finished with value: 0.7928571428571428 and parameters: {'learning_rate': 0.022447956955754366, 'optimizer': 'Adam', 'n_layers': 3, 'n_units_l0': 4, 'n_units_l1': 4, 'n_units_l2': 5}. Best is trial 6 with value: 0.8142857142857143.\u001b[0m\n",
      "\u001b[32m[I 2022-08-30 17:22:44,864]\u001b[0m Trial 22 pruned. \u001b[0m\n",
      "\u001b[32m[I 2022-08-30 17:22:45,148]\u001b[0m Trial 23 pruned. \u001b[0m\n"
     ]
    },
    {
     "name": "stderr",
     "output_type": "stream",
     "text": [
      "\u001b[32m[I 2022-08-30 17:22:53,312]\u001b[0m A new study created in memory with name: no-name-48871ead-1337-450c-a7e5-647a8b1263e0\u001b[0m\n"
     ]
    },
    {
     "name": "stdout",
     "output_type": "stream",
     "text": [
      "\u001b[32m[I 2022-08-30 17:22:53,307]\u001b[0m Trial 24 finished with value: 0.7928571428571428 and parameters: {'learning_rate': 0.0035293446597960084, 'optimizer': 'Adam', 'n_layers': 4, 'n_units_l0': 5, 'n_units_l1': 5, 'n_units_l2': 7, 'n_units_l3': 8}. Best is trial 6 with value: 0.8142857142857143.\u001b[0m\n"
     ]
    },
    {
     "name": "stderr",
     "output_type": "stream",
     "text": [
      "c:\\Users\\Mohsen\\anaconda3\\envs\\CLP\\lib\\site-packages\\optuna\\progress_bar.py:47: ExperimentalWarning: Progress bar is experimental (supported from v1.2.0). The interface can change in the future.\n",
      "  self._init_valid()\n"
     ]
    },
    {
     "data": {
      "application/vnd.jupyter.widget-view+json": {
       "model_id": "f0d4c58fc41a4b09a0255aa0dd39341f",
       "version_major": 2,
       "version_minor": 0
      },
      "text/plain": [
       "  0%|          | 0/25 [00:00<?, ?it/s]"
      ]
     },
     "metadata": {},
     "output_type": "display_data"
    },
    {
     "name": "stdout",
     "output_type": "stream",
     "text": [
      "\u001b[32m[I 2022-08-30 17:22:55,936]\u001b[0m Trial 0 finished with value: 0.7428571428571429 and parameters: {'learning_rate': 0.04294167662510002, 'optimizer': 'SGD', 'n_layers': 4, 'n_units_l0': 7, 'n_units_l1': 9, 'n_units_l2': 7, 'n_units_l3': 10}. Best is trial 0 with value: 0.7428571428571429.\u001b[0m\n",
      "\u001b[32m[I 2022-08-30 17:22:58,414]\u001b[0m Trial 1 finished with value: 0.7285714285714285 and parameters: {'learning_rate': 0.0001075254152238853, 'optimizer': 'RMSprop', 'n_layers': 2, 'n_units_l0': 8, 'n_units_l1': 8}. Best is trial 0 with value: 0.7428571428571429.\u001b[0m\n",
      "\u001b[32m[I 2022-08-30 17:23:02,426]\u001b[0m Trial 2 finished with value: 0.75 and parameters: {'learning_rate': 0.00018159519893768978, 'optimizer': 'Adam', 'n_layers': 4, 'n_units_l0': 7, 'n_units_l1': 4, 'n_units_l2': 4, 'n_units_l3': 5}. Best is trial 2 with value: 0.75.\u001b[0m\n",
      "\u001b[32m[I 2022-08-30 17:23:07,221]\u001b[0m Trial 3 finished with value: 0.7285714285714285 and parameters: {'learning_rate': 0.02461314512512959, 'optimizer': 'Adam', 'n_layers': 5, 'n_units_l0': 5, 'n_units_l1': 9, 'n_units_l2': 6, 'n_units_l3': 10, 'n_units_l4': 9}. Best is trial 2 with value: 0.75.\u001b[0m\n",
      "\u001b[32m[I 2022-08-30 17:23:10,095]\u001b[0m Trial 4 finished with value: 0.8 and parameters: {'learning_rate': 0.001435461956890347, 'optimizer': 'Adam', 'n_layers': 2, 'n_units_l0': 7, 'n_units_l1': 9}. Best is trial 4 with value: 0.8.\u001b[0m\n",
      "\u001b[32m[I 2022-08-30 17:23:10,216]\u001b[0m Trial 5 pruned. \u001b[0m\n",
      "\u001b[32m[I 2022-08-30 17:23:10,465]\u001b[0m Trial 6 pruned. \u001b[0m\n",
      "\u001b[32m[I 2022-08-30 17:23:10,559]\u001b[0m Trial 7 pruned. \u001b[0m\n",
      "\u001b[32m[I 2022-08-30 17:23:10,667]\u001b[0m Trial 8 pruned. \u001b[0m\n",
      "\u001b[32m[I 2022-08-30 17:23:10,826]\u001b[0m Trial 9 pruned. \u001b[0m\n",
      "\u001b[32m[I 2022-08-30 17:23:10,940]\u001b[0m Trial 10 pruned. \u001b[0m\n",
      "\u001b[32m[I 2022-08-30 17:23:11,132]\u001b[0m Trial 11 pruned. \u001b[0m\n",
      "\u001b[32m[I 2022-08-30 17:23:11,538]\u001b[0m Trial 12 pruned. \u001b[0m\n",
      "\u001b[32m[I 2022-08-30 17:23:11,712]\u001b[0m Trial 13 pruned. \u001b[0m\n",
      "\u001b[32m[I 2022-08-30 17:23:11,860]\u001b[0m Trial 14 pruned. \u001b[0m\n",
      "\u001b[32m[I 2022-08-30 17:23:15,996]\u001b[0m Trial 15 finished with value: 0.75 and parameters: {'learning_rate': 1.1452854667526111e-05, 'optimizer': 'Adam', 'n_layers': 4, 'n_units_l0': 6, 'n_units_l1': 7, 'n_units_l2': 6, 'n_units_l3': 7}. Best is trial 4 with value: 0.8.\u001b[0m\n",
      "\u001b[32m[I 2022-08-30 17:23:16,115]\u001b[0m Trial 16 pruned. \u001b[0m\n",
      "\u001b[32m[I 2022-08-30 17:23:16,273]\u001b[0m Trial 17 pruned. \u001b[0m\n",
      "\u001b[32m[I 2022-08-30 17:23:19,558]\u001b[0m Trial 18 finished with value: 0.75 and parameters: {'learning_rate': 0.0014716289885742665, 'optimizer': 'RMSprop', 'n_layers': 4, 'n_units_l0': 9, 'n_units_l1': 7, 'n_units_l2': 8, 'n_units_l3': 4}. Best is trial 4 with value: 0.8.\u001b[0m\n",
      "\u001b[32m[I 2022-08-30 17:23:19,717]\u001b[0m Trial 19 pruned. \u001b[0m\n",
      "\u001b[32m[I 2022-08-30 17:23:19,813]\u001b[0m Trial 20 pruned. \u001b[0m\n",
      "\u001b[32m[I 2022-08-30 17:23:23,051]\u001b[0m Trial 21 finished with value: 0.7785714285714286 and parameters: {'learning_rate': 0.001309113535346923, 'optimizer': 'RMSprop', 'n_layers': 4, 'n_units_l0': 9, 'n_units_l1': 7, 'n_units_l2': 8, 'n_units_l3': 5}. Best is trial 4 with value: 0.8.\u001b[0m\n",
      "\u001b[32m[I 2022-08-30 17:23:26,339]\u001b[0m Trial 22 finished with value: 0.7857142857142857 and parameters: {'learning_rate': 0.001687230860186092, 'optimizer': 'RMSprop', 'n_layers': 4, 'n_units_l0': 9, 'n_units_l1': 7, 'n_units_l2': 8, 'n_units_l3': 5}. Best is trial 4 with value: 0.8.\u001b[0m\n",
      "\u001b[32m[I 2022-08-30 17:23:26,482]\u001b[0m Trial 23 pruned. \u001b[0m\n"
     ]
    },
    {
     "name": "stderr",
     "output_type": "stream",
     "text": [
      "\u001b[32m[I 2022-08-30 17:23:29,293]\u001b[0m A new study created in memory with name: no-name-767362da-4951-4787-b10a-d745edbe48f7\u001b[0m\n"
     ]
    },
    {
     "name": "stdout",
     "output_type": "stream",
     "text": [
      "\u001b[32m[I 2022-08-30 17:23:29,289]\u001b[0m Trial 24 finished with value: 0.7857142857142857 and parameters: {'learning_rate': 0.0072385269871072305, 'optimizer': 'RMSprop', 'n_layers': 3, 'n_units_l0': 8, 'n_units_l1': 7, 'n_units_l2': 9}. Best is trial 4 with value: 0.8.\u001b[0m\n"
     ]
    },
    {
     "name": "stderr",
     "output_type": "stream",
     "text": [
      "c:\\Users\\Mohsen\\anaconda3\\envs\\CLP\\lib\\site-packages\\optuna\\progress_bar.py:47: ExperimentalWarning: Progress bar is experimental (supported from v1.2.0). The interface can change in the future.\n",
      "  self._init_valid()\n"
     ]
    },
    {
     "data": {
      "application/vnd.jupyter.widget-view+json": {
       "model_id": "c4b1d611c37440e3aba964e38a94bf05",
       "version_major": 2,
       "version_minor": 0
      },
      "text/plain": [
       "  0%|          | 0/25 [00:00<?, ?it/s]"
      ]
     },
     "metadata": {},
     "output_type": "display_data"
    },
    {
     "name": "stdout",
     "output_type": "stream",
     "text": [
      "\u001b[32m[I 2022-08-30 17:23:30,528]\u001b[0m Trial 0 finished with value: 0.7285714285714285 and parameters: {'learning_rate': 6.207632421887087e-05, 'optimizer': 'SGD', 'n_layers': 2, 'n_units_l0': 7, 'n_units_l1': 8}. Best is trial 0 with value: 0.7285714285714285.\u001b[0m\n",
      "\u001b[32m[I 2022-08-30 17:23:32,650]\u001b[0m Trial 1 finished with value: 0.22142857142857142 and parameters: {'learning_rate': 0.00019260469714172063, 'optimizer': 'Adam', 'n_layers': 4, 'n_units_l0': 6, 'n_units_l1': 10, 'n_units_l2': 4, 'n_units_l3': 7}. Best is trial 0 with value: 0.7285714285714285.\u001b[0m\n",
      "\u001b[32m[I 2022-08-30 17:23:35,040]\u001b[0m Trial 2 finished with value: 0.7857142857142857 and parameters: {'learning_rate': 0.007528301947669279, 'optimizer': 'Adam', 'n_layers': 5, 'n_units_l0': 7, 'n_units_l1': 9, 'n_units_l2': 9, 'n_units_l3': 9, 'n_units_l4': 4}. Best is trial 2 with value: 0.7857142857142857.\u001b[0m\n",
      "\u001b[32m[I 2022-08-30 17:23:36,882]\u001b[0m Trial 3 finished with value: 0.7357142857142858 and parameters: {'learning_rate': 0.0005996425741538986, 'optimizer': 'Adam', 'n_layers': 3, 'n_units_l0': 7, 'n_units_l1': 8, 'n_units_l2': 8}. Best is trial 2 with value: 0.7857142857142857.\u001b[0m\n",
      "\u001b[32m[I 2022-08-30 17:23:38,034]\u001b[0m Trial 4 finished with value: 0.35714285714285715 and parameters: {'learning_rate': 0.0004764563333738977, 'optimizer': 'SGD', 'n_layers': 2, 'n_units_l0': 5, 'n_units_l1': 4}. Best is trial 2 with value: 0.7857142857142857.\u001b[0m\n",
      "\u001b[32m[I 2022-08-30 17:23:39,596]\u001b[0m Trial 5 finished with value: 0.7214285714285714 and parameters: {'learning_rate': 0.004658227382678197, 'optimizer': 'RMSprop', 'n_layers': 3, 'n_units_l0': 7, 'n_units_l1': 9, 'n_units_l2': 5}. Best is trial 2 with value: 0.7857142857142857.\u001b[0m\n",
      "\u001b[32m[I 2022-08-30 17:23:41,474]\u001b[0m Trial 6 finished with value: 0.7714285714285715 and parameters: {'learning_rate': 0.028353198135591576, 'optimizer': 'RMSprop', 'n_layers': 4, 'n_units_l0': 10, 'n_units_l1': 10, 'n_units_l2': 7, 'n_units_l3': 10}. Best is trial 2 with value: 0.7857142857142857.\u001b[0m\n",
      "\u001b[32m[I 2022-08-30 17:23:41,544]\u001b[0m Trial 7 pruned. \u001b[0m\n",
      "\u001b[32m[I 2022-08-30 17:23:43,091]\u001b[0m Trial 8 finished with value: 0.7928571428571428 and parameters: {'learning_rate': 0.013825432241223465, 'optimizer': 'Adam', 'n_layers': 2, 'n_units_l0': 8, 'n_units_l1': 6}. Best is trial 8 with value: 0.7928571428571428.\u001b[0m\n",
      "\u001b[32m[I 2022-08-30 17:23:43,151]\u001b[0m Trial 9 pruned. \u001b[0m\n",
      "\u001b[32m[I 2022-08-30 17:23:43,227]\u001b[0m Trial 10 pruned. \u001b[0m\n",
      "\u001b[32m[I 2022-08-30 17:23:43,377]\u001b[0m Trial 11 pruned. \u001b[0m\n",
      "\u001b[32m[I 2022-08-30 17:23:43,474]\u001b[0m Trial 12 pruned. \u001b[0m\n",
      "\u001b[32m[I 2022-08-30 17:23:43,588]\u001b[0m Trial 13 pruned. \u001b[0m\n",
      "\u001b[32m[I 2022-08-30 17:23:43,698]\u001b[0m Trial 14 pruned. \u001b[0m\n",
      "\u001b[32m[I 2022-08-30 17:23:43,811]\u001b[0m Trial 15 pruned. \u001b[0m\n",
      "\u001b[32m[I 2022-08-30 17:23:45,852]\u001b[0m Trial 16 finished with value: 0.7428571428571429 and parameters: {'learning_rate': 0.013120482343752031, 'optimizer': 'RMSprop', 'n_layers': 5, 'n_units_l0': 6, 'n_units_l1': 8, 'n_units_l2': 9, 'n_units_l3': 8, 'n_units_l4': 10}. Best is trial 8 with value: 0.7928571428571428.\u001b[0m\n",
      "\u001b[32m[I 2022-08-30 17:23:47,423]\u001b[0m Trial 17 finished with value: 0.8428571428571429 and parameters: {'learning_rate': 0.002814364099781437, 'optimizer': 'Adam', 'n_layers': 2, 'n_units_l0': 9, 'n_units_l1': 5}. Best is trial 17 with value: 0.8428571428571429.\u001b[0m\n",
      "\u001b[32m[I 2022-08-30 17:23:48,994]\u001b[0m Trial 18 finished with value: 0.7785714285714286 and parameters: {'learning_rate': 0.0838099416135372, 'optimizer': 'Adam', 'n_layers': 2, 'n_units_l0': 9, 'n_units_l1': 5}. Best is trial 17 with value: 0.8428571428571429.\u001b[0m\n",
      "\u001b[32m[I 2022-08-30 17:23:49,425]\u001b[0m Trial 19 pruned. \u001b[0m\n",
      "\u001b[32m[I 2022-08-30 17:23:49,511]\u001b[0m Trial 20 pruned. \u001b[0m\n",
      "\u001b[32m[I 2022-08-30 17:23:49,600]\u001b[0m Trial 21 pruned. \u001b[0m\n",
      "\u001b[32m[I 2022-08-30 17:23:49,693]\u001b[0m Trial 22 pruned. \u001b[0m\n"
     ]
    },
    {
     "name": "stderr",
     "output_type": "stream",
     "text": [
      "\u001b[32m[I 2022-08-30 17:23:50,342]\u001b[0m A new study created in memory with name: no-name-45f80336-273d-4162-868c-c134364999f2\u001b[0m\n"
     ]
    },
    {
     "name": "stdout",
     "output_type": "stream",
     "text": [
      "\u001b[32m[I 2022-08-30 17:23:50,226]\u001b[0m Trial 23 pruned. \u001b[0m\n",
      "\u001b[32m[I 2022-08-30 17:23:50,337]\u001b[0m Trial 24 pruned. \u001b[0m\n"
     ]
    },
    {
     "name": "stderr",
     "output_type": "stream",
     "text": [
      "c:\\Users\\Mohsen\\anaconda3\\envs\\CLP\\lib\\site-packages\\optuna\\progress_bar.py:47: ExperimentalWarning: Progress bar is experimental (supported from v1.2.0). The interface can change in the future.\n",
      "  self._init_valid()\n"
     ]
    },
    {
     "data": {
      "application/vnd.jupyter.widget-view+json": {
       "model_id": "91f23abda9144d5495f4ad1ac3bd2993",
       "version_major": 2,
       "version_minor": 0
      },
      "text/plain": [
       "  0%|          | 0/25 [00:00<?, ?it/s]"
      ]
     },
     "metadata": {},
     "output_type": "display_data"
    },
    {
     "name": "stdout",
     "output_type": "stream",
     "text": [
      "\u001b[32m[I 2022-08-30 17:24:54,577]\u001b[0m Trial 0 finished with value: 0.8 and parameters: {'learning_rate': 0.03329089186434108, 'optimizer': 'Adam', 'n_layers': 5, 'n_units_l0': 5, 'n_units_l1': 5, 'n_units_l2': 5, 'n_units_l3': 5, 'n_units_l4': 10}. Best is trial 0 with value: 0.8.\u001b[0m\n",
      "\u001b[32m[I 2022-08-30 17:25:39,629]\u001b[0m Trial 1 finished with value: 0.7214285714285714 and parameters: {'learning_rate': 0.02226700518842003, 'optimizer': 'RMSprop', 'n_layers': 4, 'n_units_l0': 10, 'n_units_l1': 10, 'n_units_l2': 10, 'n_units_l3': 8}. Best is trial 0 with value: 0.8.\u001b[0m\n",
      "\u001b[32m[I 2022-08-30 17:26:18,397]\u001b[0m Trial 2 finished with value: 0.7285714285714285 and parameters: {'learning_rate': 4.345613882562782e-05, 'optimizer': 'RMSprop', 'n_layers': 3, 'n_units_l0': 8, 'n_units_l1': 6, 'n_units_l2': 5}. Best is trial 0 with value: 0.8.\u001b[0m\n",
      "\u001b[32m[I 2022-08-30 17:26:57,719]\u001b[0m Trial 3 finished with value: 0.75 and parameters: {'learning_rate': 0.03836727222183992, 'optimizer': 'RMSprop', 'n_layers': 3, 'n_units_l0': 9, 'n_units_l1': 9, 'n_units_l2': 8}. Best is trial 0 with value: 0.8.\u001b[0m\n",
      "\u001b[32m[I 2022-08-30 17:27:23,943]\u001b[0m Trial 4 finished with value: 0.7214285714285714 and parameters: {'learning_rate': 1.8364193964648304e-05, 'optimizer': 'SGD', 'n_layers': 2, 'n_units_l0': 6, 'n_units_l1': 5}. Best is trial 0 with value: 0.8.\u001b[0m\n",
      "\u001b[32m[I 2022-08-30 17:28:20,166]\u001b[0m Trial 5 finished with value: 0.7785714285714286 and parameters: {'learning_rate': 0.014175661971203247, 'optimizer': 'Adam', 'n_layers': 4, 'n_units_l0': 4, 'n_units_l1': 5, 'n_units_l2': 5, 'n_units_l3': 6}. Best is trial 0 with value: 0.8.\u001b[0m\n",
      "\u001b[32m[I 2022-08-30 17:28:20,755]\u001b[0m Trial 6 pruned. \u001b[0m\n",
      "\u001b[32m[I 2022-08-30 17:28:21,436]\u001b[0m Trial 7 pruned. \u001b[0m\n",
      "\u001b[32m[I 2022-08-30 17:28:22,261]\u001b[0m Trial 8 pruned. \u001b[0m\n",
      "\u001b[32m[I 2022-08-30 17:28:23,068]\u001b[0m Trial 9 pruned. \u001b[0m\n",
      "\u001b[32m[I 2022-08-30 17:28:26,651]\u001b[0m Trial 10 pruned. \u001b[0m\n",
      "\u001b[32m[I 2022-08-30 17:28:31,612]\u001b[0m Trial 11 pruned. \u001b[0m\n",
      "\u001b[32m[I 2022-08-30 17:28:35,002]\u001b[0m Trial 12 pruned. \u001b[0m\n",
      "\u001b[32m[I 2022-08-30 17:28:35,980]\u001b[0m Trial 13 pruned. \u001b[0m\n",
      "\u001b[32m[I 2022-08-30 17:29:40,966]\u001b[0m Trial 14 finished with value: 0.8357142857142857 and parameters: {'learning_rate': 0.012946823592970327, 'optimizer': 'Adam', 'n_layers': 5, 'n_units_l0': 7, 'n_units_l1': 5, 'n_units_l2': 6, 'n_units_l3': 4, 'n_units_l4': 10}. Best is trial 14 with value: 0.8357142857142857.\u001b[0m\n",
      "\u001b[32m[I 2022-08-30 17:29:52,937]\u001b[0m Trial 15 pruned. \u001b[0m\n",
      "\u001b[32m[I 2022-08-30 17:29:53,727]\u001b[0m Trial 16 pruned. \u001b[0m\n",
      "\u001b[32m[I 2022-08-30 17:30:59,382]\u001b[0m Trial 17 finished with value: 0.8571428571428571 and parameters: {'learning_rate': 0.007853437093651465, 'optimizer': 'Adam', 'n_layers': 5, 'n_units_l0': 7, 'n_units_l1': 5, 'n_units_l2': 6, 'n_units_l3': 4, 'n_units_l4': 10}. Best is trial 17 with value: 0.8571428571428571.\u001b[0m\n",
      "\u001b[32m[I 2022-08-30 17:31:00,397]\u001b[0m Trial 18 pruned. \u001b[0m\n",
      "\u001b[32m[I 2022-08-30 17:31:04,469]\u001b[0m Trial 19 pruned. \u001b[0m\n",
      "\u001b[32m[I 2022-08-30 17:31:05,499]\u001b[0m Trial 20 pruned. \u001b[0m\n",
      "\u001b[32m[I 2022-08-30 17:31:06,679]\u001b[0m Trial 21 pruned. \u001b[0m\n",
      "\u001b[32m[I 2022-08-30 17:31:07,841]\u001b[0m Trial 22 pruned. \u001b[0m\n",
      "\u001b[32m[I 2022-08-30 17:31:09,035]\u001b[0m Trial 23 pruned. \u001b[0m\n"
     ]
    },
    {
     "name": "stderr",
     "output_type": "stream",
     "text": [
      "\u001b[32m[I 2022-08-30 17:31:10,302]\u001b[0m A new study created in memory with name: no-name-3b583d84-f78f-4ccc-91aa-a69e0e55de52\u001b[0m\n"
     ]
    },
    {
     "name": "stdout",
     "output_type": "stream",
     "text": [
      "\u001b[32m[I 2022-08-30 17:31:10,296]\u001b[0m Trial 24 pruned. \u001b[0m\n"
     ]
    },
    {
     "name": "stderr",
     "output_type": "stream",
     "text": [
      "c:\\Users\\Mohsen\\anaconda3\\envs\\CLP\\lib\\site-packages\\optuna\\progress_bar.py:47: ExperimentalWarning: Progress bar is experimental (supported from v1.2.0). The interface can change in the future.\n",
      "  self._init_valid()\n"
     ]
    },
    {
     "data": {
      "application/vnd.jupyter.widget-view+json": {
       "model_id": "e4a8db34a2d5445492b43c9c99ae37cd",
       "version_major": 2,
       "version_minor": 0
      },
      "text/plain": [
       "  0%|          | 0/25 [00:00<?, ?it/s]"
      ]
     },
     "metadata": {},
     "output_type": "display_data"
    },
    {
     "name": "stdout",
     "output_type": "stream",
     "text": [
      "\u001b[32m[I 2022-08-30 17:31:40,998]\u001b[0m Trial 0 finished with value: 0.7928571428571428 and parameters: {'learning_rate': 0.0016637871650765643, 'optimizer': 'Adam', 'n_layers': 4, 'n_units_l0': 4, 'n_units_l1': 9, 'n_units_l2': 5, 'n_units_l3': 6}. Best is trial 0 with value: 0.7928571428571428.\u001b[0m\n",
      "\u001b[32m[I 2022-08-30 17:31:57,198]\u001b[0m Trial 1 finished with value: 0.8 and parameters: {'learning_rate': 0.04299064280418071, 'optimizer': 'SGD', 'n_layers': 3, 'n_units_l0': 9, 'n_units_l1': 8, 'n_units_l2': 6}. Best is trial 1 with value: 0.8.\u001b[0m\n",
      "\u001b[32m[I 2022-08-30 17:32:13,608]\u001b[0m Trial 2 finished with value: 0.7357142857142858 and parameters: {'learning_rate': 0.00012665329595230697, 'optimizer': 'SGD', 'n_layers': 3, 'n_units_l0': 6, 'n_units_l1': 6, 'n_units_l2': 4}. Best is trial 1 with value: 0.8.\u001b[0m\n",
      "\u001b[32m[I 2022-08-30 17:32:39,833]\u001b[0m Trial 3 finished with value: 0.75 and parameters: {'learning_rate': 0.07304779342794954, 'optimizer': 'RMSprop', 'n_layers': 5, 'n_units_l0': 7, 'n_units_l1': 8, 'n_units_l2': 10, 'n_units_l3': 5, 'n_units_l4': 4}. Best is trial 1 with value: 0.8.\u001b[0m\n",
      "\u001b[32m[I 2022-08-30 17:32:57,097]\u001b[0m Trial 4 finished with value: 0.8071428571428572 and parameters: {'learning_rate': 0.0009229422955513461, 'optimizer': 'RMSprop', 'n_layers': 2, 'n_units_l0': 9, 'n_units_l1': 10}. Best is trial 4 with value: 0.8071428571428572.\u001b[0m\n",
      "\u001b[32m[I 2022-08-30 17:32:57,940]\u001b[0m Trial 5 pruned. \u001b[0m\n",
      "\u001b[32m[I 2022-08-30 17:33:09,414]\u001b[0m Trial 6 pruned. \u001b[0m\n",
      "\u001b[32m[I 2022-08-30 17:33:09,845]\u001b[0m Trial 7 pruned. \u001b[0m\n",
      "\u001b[32m[I 2022-08-30 17:33:10,198]\u001b[0m Trial 8 pruned. \u001b[0m\n",
      "\u001b[32m[I 2022-08-30 17:33:11,041]\u001b[0m Trial 9 pruned. \u001b[0m\n",
      "\u001b[32m[I 2022-08-30 17:33:11,362]\u001b[0m Trial 10 pruned. \u001b[0m\n",
      "\u001b[32m[I 2022-08-30 17:33:11,620]\u001b[0m Trial 11 pruned. \u001b[0m\n",
      "\u001b[32m[I 2022-08-30 17:33:11,900]\u001b[0m Trial 12 pruned. \u001b[0m\n",
      "\u001b[32m[I 2022-08-30 17:33:12,163]\u001b[0m Trial 13 pruned. \u001b[0m\n",
      "\u001b[32m[I 2022-08-30 17:33:12,435]\u001b[0m Trial 14 pruned. \u001b[0m\n",
      "\u001b[32m[I 2022-08-30 17:33:32,772]\u001b[0m Trial 15 finished with value: 0.8142857142857143 and parameters: {'learning_rate': 0.002150245008410114, 'optimizer': 'RMSprop', 'n_layers': 3, 'n_units_l0': 8, 'n_units_l1': 9, 'n_units_l2': 7}. Best is trial 15 with value: 0.8142857142857143.\u001b[0m\n",
      "\u001b[32m[I 2022-08-30 17:33:33,271]\u001b[0m Trial 16 pruned. \u001b[0m\n",
      "\u001b[32m[I 2022-08-30 17:33:33,581]\u001b[0m Trial 17 pruned. \u001b[0m\n",
      "\u001b[32m[I 2022-08-30 17:33:41,687]\u001b[0m Trial 18 pruned. \u001b[0m\n",
      "\u001b[32m[I 2022-08-30 17:33:42,528]\u001b[0m Trial 19 pruned. \u001b[0m\n",
      "\u001b[32m[I 2022-08-30 17:33:42,844]\u001b[0m Trial 20 pruned. \u001b[0m\n",
      "\u001b[32m[I 2022-08-30 17:33:45,275]\u001b[0m Trial 21 pruned. \u001b[0m\n",
      "\u001b[32m[I 2022-08-30 17:34:05,957]\u001b[0m Trial 22 finished with value: 0.8071428571428572 and parameters: {'learning_rate': 0.003205729970898903, 'optimizer': 'RMSprop', 'n_layers': 3, 'n_units_l0': 9, 'n_units_l1': 8, 'n_units_l2': 6}. Best is trial 15 with value: 0.8142857142857143.\u001b[0m\n",
      "\u001b[32m[I 2022-08-30 17:34:06,339]\u001b[0m Trial 23 pruned. \u001b[0m\n"
     ]
    },
    {
     "name": "stderr",
     "output_type": "stream",
     "text": [
      "\u001b[32m[I 2022-08-30 17:34:06,796]\u001b[0m A new study created in memory with name: no-name-a390dbae-bcef-4a81-8ec8-f3118ed53109\u001b[0m\n"
     ]
    },
    {
     "name": "stdout",
     "output_type": "stream",
     "text": [
      "\u001b[32m[I 2022-08-30 17:34:06,793]\u001b[0m Trial 24 pruned. \u001b[0m\n"
     ]
    },
    {
     "name": "stderr",
     "output_type": "stream",
     "text": [
      "c:\\Users\\Mohsen\\anaconda3\\envs\\CLP\\lib\\site-packages\\optuna\\progress_bar.py:47: ExperimentalWarning: Progress bar is experimental (supported from v1.2.0). The interface can change in the future.\n",
      "  self._init_valid()\n"
     ]
    },
    {
     "data": {
      "application/vnd.jupyter.widget-view+json": {
       "model_id": "3c469a42fbf8433bb4e8b63447c6366f",
       "version_major": 2,
       "version_minor": 0
      },
      "text/plain": [
       "  0%|          | 0/25 [00:00<?, ?it/s]"
      ]
     },
     "metadata": {},
     "output_type": "display_data"
    },
    {
     "name": "stdout",
     "output_type": "stream",
     "text": [
      "\u001b[32m[I 2022-08-30 17:34:17,715]\u001b[0m Trial 0 finished with value: 0.6928571428571428 and parameters: {'learning_rate': 0.00022742190884991658, 'optimizer': 'RMSprop', 'n_layers': 3, 'n_units_l0': 5, 'n_units_l1': 6, 'n_units_l2': 5}. Best is trial 0 with value: 0.6928571428571428.\u001b[0m\n",
      "\u001b[32m[I 2022-08-30 17:34:28,279]\u001b[0m Trial 1 finished with value: 0.7285714285714285 and parameters: {'learning_rate': 0.03343438034306599, 'optimizer': 'SGD', 'n_layers': 5, 'n_units_l0': 5, 'n_units_l1': 5, 'n_units_l2': 4, 'n_units_l3': 6, 'n_units_l4': 7}. Best is trial 1 with value: 0.7285714285714285.\u001b[0m\n",
      "\u001b[32m[I 2022-08-30 17:34:38,730]\u001b[0m Trial 2 finished with value: 0.24285714285714285 and parameters: {'learning_rate': 3.122753738331859e-05, 'optimizer': 'SGD', 'n_layers': 5, 'n_units_l0': 5, 'n_units_l1': 6, 'n_units_l2': 5, 'n_units_l3': 5, 'n_units_l4': 8}. Best is trial 1 with value: 0.7285714285714285.\u001b[0m\n",
      "\u001b[32m[I 2022-08-30 17:34:56,799]\u001b[0m Trial 3 finished with value: 0.8071428571428572 and parameters: {'learning_rate': 0.0006668935162298625, 'optimizer': 'Adam', 'n_layers': 5, 'n_units_l0': 9, 'n_units_l1': 4, 'n_units_l2': 6, 'n_units_l3': 4, 'n_units_l4': 5}. Best is trial 3 with value: 0.8071428571428572.\u001b[0m\n",
      "\u001b[32m[I 2022-08-30 17:35:07,652]\u001b[0m Trial 4 finished with value: 0.7928571428571428 and parameters: {'learning_rate': 0.0019392204658066734, 'optimizer': 'Adam', 'n_layers': 2, 'n_units_l0': 8, 'n_units_l1': 9}. Best is trial 3 with value: 0.8071428571428572.\u001b[0m\n",
      "\u001b[32m[I 2022-08-30 17:35:18,472]\u001b[0m Trial 5 finished with value: 0.7714285714285715 and parameters: {'learning_rate': 0.020600412515077358, 'optimizer': 'RMSprop', 'n_layers': 3, 'n_units_l0': 9, 'n_units_l1': 4, 'n_units_l2': 10}. Best is trial 3 with value: 0.8071428571428572.\u001b[0m\n",
      "\u001b[32m[I 2022-08-30 17:35:18,655]\u001b[0m Trial 6 pruned. \u001b[0m\n",
      "\u001b[32m[I 2022-08-30 17:35:18,979]\u001b[0m Trial 7 pruned. \u001b[0m\n",
      "\u001b[32m[I 2022-08-30 17:35:19,212]\u001b[0m Trial 8 pruned. \u001b[0m\n",
      "\u001b[32m[I 2022-08-30 17:35:21,444]\u001b[0m Trial 9 pruned. \u001b[0m\n",
      "\u001b[32m[I 2022-08-30 17:35:21,730]\u001b[0m Trial 10 pruned. \u001b[0m\n",
      "\u001b[32m[I 2022-08-30 17:35:23,357]\u001b[0m Trial 11 pruned. \u001b[0m\n",
      "\u001b[32m[I 2022-08-30 17:35:23,906]\u001b[0m Trial 12 pruned. \u001b[0m\n",
      "\u001b[32m[I 2022-08-30 17:35:24,117]\u001b[0m Trial 13 pruned. \u001b[0m\n",
      "\u001b[32m[I 2022-08-30 17:35:24,383]\u001b[0m Trial 14 pruned. \u001b[0m\n",
      "\u001b[32m[I 2022-08-30 17:35:31,303]\u001b[0m Trial 15 pruned. \u001b[0m\n",
      "\u001b[32m[I 2022-08-30 17:35:31,623]\u001b[0m Trial 16 pruned. \u001b[0m\n",
      "\u001b[32m[I 2022-08-30 17:35:33,304]\u001b[0m Trial 17 pruned. \u001b[0m\n",
      "\u001b[32m[I 2022-08-30 17:35:43,879]\u001b[0m Trial 18 finished with value: 0.7642857142857142 and parameters: {'learning_rate': 0.0068640148097308005, 'optimizer': 'RMSprop', 'n_layers': 3, 'n_units_l0': 10, 'n_units_l1': 9, 'n_units_l2': 6}. Best is trial 3 with value: 0.8071428571428572.\u001b[0m\n",
      "\u001b[32m[I 2022-08-30 17:35:44,065]\u001b[0m Trial 19 pruned. \u001b[0m\n",
      "\u001b[32m[I 2022-08-30 17:35:44,441]\u001b[0m Trial 20 pruned. \u001b[0m\n",
      "\u001b[32m[I 2022-08-30 17:35:55,005]\u001b[0m Trial 21 finished with value: 0.7357142857142858 and parameters: {'learning_rate': 0.020553983306707723, 'optimizer': 'RMSprop', 'n_layers': 3, 'n_units_l0': 9, 'n_units_l1': 4, 'n_units_l2': 10}. Best is trial 3 with value: 0.8071428571428572.\u001b[0m\n",
      "\u001b[32m[I 2022-08-30 17:35:55,187]\u001b[0m Trial 22 pruned. \u001b[0m\n"
     ]
    },
    {
     "name": "stderr",
     "output_type": "stream",
     "text": [
      "\u001b[32m[I 2022-08-30 17:35:55,586]\u001b[0m A new study created in memory with name: no-name-ee79082e-e21d-4cdc-a279-c325eee6bc93\u001b[0m\n"
     ]
    },
    {
     "name": "stdout",
     "output_type": "stream",
     "text": [
      "\u001b[32m[I 2022-08-30 17:35:55,408]\u001b[0m Trial 23 pruned. \u001b[0m\n",
      "\u001b[32m[I 2022-08-30 17:35:55,583]\u001b[0m Trial 24 pruned. \u001b[0m\n"
     ]
    },
    {
     "name": "stderr",
     "output_type": "stream",
     "text": [
      "c:\\Users\\Mohsen\\anaconda3\\envs\\CLP\\lib\\site-packages\\optuna\\progress_bar.py:47: ExperimentalWarning: Progress bar is experimental (supported from v1.2.0). The interface can change in the future.\n",
      "  self._init_valid()\n"
     ]
    },
    {
     "data": {
      "application/vnd.jupyter.widget-view+json": {
       "model_id": "07db80e87f9645a08ad8820acc29a20b",
       "version_major": 2,
       "version_minor": 0
      },
      "text/plain": [
       "  0%|          | 0/25 [00:00<?, ?it/s]"
      ]
     },
     "metadata": {},
     "output_type": "display_data"
    },
    {
     "name": "stdout",
     "output_type": "stream",
     "text": [
      "\u001b[32m[I 2022-08-30 17:35:59,622]\u001b[0m Trial 0 finished with value: 0.7142857142857143 and parameters: {'learning_rate': 0.0009700649000496395, 'optimizer': 'SGD', 'n_layers': 2, 'n_units_l0': 6, 'n_units_l1': 10}. Best is trial 0 with value: 0.7142857142857143.\u001b[0m\n",
      "\u001b[32m[I 2022-08-30 17:36:04,152]\u001b[0m Trial 1 finished with value: 0.7571428571428571 and parameters: {'learning_rate': 0.010017175552456932, 'optimizer': 'SGD', 'n_layers': 3, 'n_units_l0': 9, 'n_units_l1': 9, 'n_units_l2': 10}. Best is trial 1 with value: 0.7571428571428571.\u001b[0m\n",
      "\u001b[32m[I 2022-08-30 17:36:09,006]\u001b[0m Trial 2 finished with value: 0.7928571428571428 and parameters: {'learning_rate': 0.015548433976419656, 'optimizer': 'RMSprop', 'n_layers': 2, 'n_units_l0': 7, 'n_units_l1': 4}. Best is trial 2 with value: 0.7928571428571428.\u001b[0m\n",
      "\u001b[32m[I 2022-08-30 17:36:13,562]\u001b[0m Trial 3 finished with value: 0.7714285714285715 and parameters: {'learning_rate': 4.342443411087228e-05, 'optimizer': 'SGD', 'n_layers': 3, 'n_units_l0': 8, 'n_units_l1': 10, 'n_units_l2': 4}. Best is trial 2 with value: 0.7928571428571428.\u001b[0m\n",
      "\u001b[32m[I 2022-08-30 17:36:17,548]\u001b[0m Trial 4 finished with value: 0.7571428571428571 and parameters: {'learning_rate': 1.7813177507227216e-05, 'optimizer': 'SGD', 'n_layers': 2, 'n_units_l0': 6, 'n_units_l1': 5}. Best is trial 2 with value: 0.7928571428571428.\u001b[0m\n",
      "\u001b[32m[I 2022-08-30 17:36:17,642]\u001b[0m Trial 5 pruned. \u001b[0m\n",
      "\u001b[32m[I 2022-08-30 17:36:17,762]\u001b[0m Trial 6 pruned. \u001b[0m\n",
      "\u001b[32m[I 2022-08-30 17:36:17,881]\u001b[0m Trial 7 pruned. \u001b[0m\n",
      "\u001b[32m[I 2022-08-30 17:36:23,602]\u001b[0m Trial 8 finished with value: 0.7571428571428571 and parameters: {'learning_rate': 0.0005581846569341117, 'optimizer': 'RMSprop', 'n_layers': 3, 'n_units_l0': 5, 'n_units_l1': 4, 'n_units_l2': 5}. Best is trial 2 with value: 0.7928571428571428.\u001b[0m\n",
      "\u001b[32m[I 2022-08-30 17:36:23,770]\u001b[0m Trial 9 pruned. \u001b[0m\n",
      "\u001b[32m[I 2022-08-30 17:36:23,948]\u001b[0m Trial 10 pruned. \u001b[0m\n",
      "\u001b[32m[I 2022-08-30 17:36:24,073]\u001b[0m Trial 11 pruned. \u001b[0m\n",
      "\u001b[32m[I 2022-08-30 17:36:24,203]\u001b[0m Trial 12 pruned. \u001b[0m\n",
      "\u001b[32m[I 2022-08-30 17:36:24,387]\u001b[0m Trial 13 pruned. \u001b[0m\n",
      "\u001b[32m[I 2022-08-30 17:36:24,577]\u001b[0m Trial 14 pruned. \u001b[0m\n",
      "\u001b[32m[I 2022-08-30 17:36:28,599]\u001b[0m Trial 15 finished with value: 0.75 and parameters: {'learning_rate': 0.0870762515225674, 'optimizer': 'SGD', 'n_layers': 2, 'n_units_l0': 7, 'n_units_l1': 9}. Best is trial 2 with value: 0.7928571428571428.\u001b[0m\n",
      "\u001b[32m[I 2022-08-30 17:36:28,729]\u001b[0m Trial 16 pruned. \u001b[0m\n",
      "\u001b[32m[I 2022-08-30 17:36:28,857]\u001b[0m Trial 17 pruned. \u001b[0m\n",
      "\u001b[32m[I 2022-08-30 17:36:28,970]\u001b[0m Trial 18 pruned. \u001b[0m\n",
      "\u001b[32m[I 2022-08-30 17:36:29,164]\u001b[0m Trial 19 pruned. \u001b[0m\n",
      "\u001b[32m[I 2022-08-30 17:36:29,287]\u001b[0m Trial 20 pruned. \u001b[0m\n",
      "\u001b[32m[I 2022-08-30 17:36:29,405]\u001b[0m Trial 21 pruned. \u001b[0m\n",
      "\u001b[32m[I 2022-08-30 17:36:29,521]\u001b[0m Trial 22 pruned. \u001b[0m\n"
     ]
    },
    {
     "name": "stderr",
     "output_type": "stream",
     "text": [
      "\u001b[32m[I 2022-08-30 17:36:29,760]\u001b[0m A new study created in memory with name: no-name-ede9c28b-2356-4cf1-85a9-3e3452194af2\u001b[0m\n"
     ]
    },
    {
     "name": "stdout",
     "output_type": "stream",
     "text": [
      "\u001b[32m[I 2022-08-30 17:36:29,630]\u001b[0m Trial 23 pruned. \u001b[0m\n",
      "\u001b[32m[I 2022-08-30 17:36:29,756]\u001b[0m Trial 24 pruned. \u001b[0m\n"
     ]
    },
    {
     "name": "stderr",
     "output_type": "stream",
     "text": [
      "c:\\Users\\Mohsen\\anaconda3\\envs\\CLP\\lib\\site-packages\\optuna\\progress_bar.py:47: ExperimentalWarning: Progress bar is experimental (supported from v1.2.0). The interface can change in the future.\n",
      "  self._init_valid()\n"
     ]
    },
    {
     "data": {
      "application/vnd.jupyter.widget-view+json": {
       "model_id": "0401cb558ade4b299c2e1c648a4479f4",
       "version_major": 2,
       "version_minor": 0
      },
      "text/plain": [
       "  0%|          | 0/25 [00:00<?, ?it/s]"
      ]
     },
     "metadata": {},
     "output_type": "display_data"
    },
    {
     "name": "stdout",
     "output_type": "stream",
     "text": [
      "\u001b[32m[I 2022-08-30 17:36:34,708]\u001b[0m Trial 0 finished with value: 0.7142857142857143 and parameters: {'learning_rate': 0.0004860801578538486, 'optimizer': 'Adam', 'n_layers': 5, 'n_units_l0': 4, 'n_units_l1': 9, 'n_units_l2': 6, 'n_units_l3': 5, 'n_units_l4': 6}. Best is trial 0 with value: 0.7142857142857143.\u001b[0m\n",
      "\u001b[32m[I 2022-08-30 17:36:37,525]\u001b[0m Trial 1 finished with value: 0.7928571428571428 and parameters: {'learning_rate': 0.003088475331595615, 'optimizer': 'RMSprop', 'n_layers': 2, 'n_units_l0': 6, 'n_units_l1': 8}. Best is trial 1 with value: 0.7928571428571428.\u001b[0m\n",
      "\u001b[32m[I 2022-08-30 17:36:40,292]\u001b[0m Trial 2 finished with value: 0.7571428571428571 and parameters: {'learning_rate': 0.004033549655060032, 'optimizer': 'RMSprop', 'n_layers': 2, 'n_units_l0': 6, 'n_units_l1': 10}. Best is trial 1 with value: 0.7928571428571428.\u001b[0m\n",
      "\u001b[32m[I 2022-08-30 17:36:43,489]\u001b[0m Trial 3 finished with value: 0.6857142857142857 and parameters: {'learning_rate': 0.005892508214431104, 'optimizer': 'SGD', 'n_layers': 5, 'n_units_l0': 7, 'n_units_l1': 6, 'n_units_l2': 5, 'n_units_l3': 4, 'n_units_l4': 7}. Best is trial 1 with value: 0.7928571428571428.\u001b[0m\n",
      "\u001b[32m[I 2022-08-30 17:36:46,721]\u001b[0m Trial 4 finished with value: 0.7428571428571429 and parameters: {'learning_rate': 0.0003218757423861006, 'optimizer': 'SGD', 'n_layers': 5, 'n_units_l0': 5, 'n_units_l1': 8, 'n_units_l2': 10, 'n_units_l3': 9, 'n_units_l4': 9}. Best is trial 1 with value: 0.7928571428571428.\u001b[0m\n",
      "\u001b[32m[I 2022-08-30 17:36:49,653]\u001b[0m Trial 5 finished with value: 0.7428571428571429 and parameters: {'learning_rate': 0.00022117041275173012, 'optimizer': 'SGD', 'n_layers': 4, 'n_units_l0': 7, 'n_units_l1': 4, 'n_units_l2': 10, 'n_units_l3': 5}. Best is trial 1 with value: 0.7928571428571428.\u001b[0m\n",
      "\u001b[32m[I 2022-08-30 17:36:54,023]\u001b[0m Trial 6 finished with value: 0.8 and parameters: {'learning_rate': 0.0016280954333907065, 'optimizer': 'Adam', 'n_layers': 4, 'n_units_l0': 4, 'n_units_l1': 9, 'n_units_l2': 6, 'n_units_l3': 9}. Best is trial 6 with value: 0.8.\u001b[0m\n",
      "\u001b[32m[I 2022-08-30 17:36:54,102]\u001b[0m Trial 7 pruned. \u001b[0m\n",
      "\u001b[32m[I 2022-08-30 17:36:56,520]\u001b[0m Trial 8 pruned. \u001b[0m\n",
      "\u001b[32m[I 2022-08-30 17:37:00,669]\u001b[0m Trial 9 finished with value: 0.7428571428571429 and parameters: {'learning_rate': 0.025485185877130303, 'optimizer': 'RMSprop', 'n_layers': 5, 'n_units_l0': 9, 'n_units_l1': 7, 'n_units_l2': 6, 'n_units_l3': 7, 'n_units_l4': 6}. Best is trial 6 with value: 0.8.\u001b[0m\n",
      "\u001b[32m[I 2022-08-30 17:37:00,765]\u001b[0m Trial 10 pruned. \u001b[0m\n",
      "\u001b[32m[I 2022-08-30 17:37:00,857]\u001b[0m Trial 11 pruned. \u001b[0m\n",
      "\u001b[32m[I 2022-08-30 17:37:00,959]\u001b[0m Trial 12 pruned. \u001b[0m\n",
      "\u001b[32m[I 2022-08-30 17:37:03,791]\u001b[0m Trial 13 pruned. \u001b[0m\n",
      "\u001b[32m[I 2022-08-30 17:37:07,592]\u001b[0m Trial 14 finished with value: 0.8142857142857143 and parameters: {'learning_rate': 0.001380934215837919, 'optimizer': 'RMSprop', 'n_layers': 4, 'n_units_l0': 6, 'n_units_l1': 9, 'n_units_l2': 8, 'n_units_l3': 10}. Best is trial 14 with value: 0.8142857142857143.\u001b[0m\n",
      "\u001b[32m[I 2022-08-30 17:37:07,689]\u001b[0m Trial 15 pruned. \u001b[0m\n",
      "\u001b[32m[I 2022-08-30 17:37:07,799]\u001b[0m Trial 16 pruned. \u001b[0m\n",
      "\u001b[32m[I 2022-08-30 17:37:07,907]\u001b[0m Trial 17 pruned. \u001b[0m\n",
      "\u001b[32m[I 2022-08-30 17:37:10,033]\u001b[0m Trial 18 pruned. \u001b[0m\n",
      "\u001b[32m[I 2022-08-30 17:37:11,712]\u001b[0m Trial 19 pruned. \u001b[0m\n",
      "\u001b[32m[I 2022-08-30 17:37:11,815]\u001b[0m Trial 20 pruned. \u001b[0m\n",
      "\u001b[32m[I 2022-08-30 17:37:14,607]\u001b[0m Trial 21 finished with value: 0.7857142857142857 and parameters: {'learning_rate': 0.002292230216253873, 'optimizer': 'RMSprop', 'n_layers': 2, 'n_units_l0': 6, 'n_units_l1': 8}. Best is trial 14 with value: 0.8142857142857143.\u001b[0m\n",
      "\u001b[32m[I 2022-08-30 17:37:18,345]\u001b[0m Trial 22 finished with value: 0.7642857142857142 and parameters: {'learning_rate': 0.00722419308373827, 'optimizer': 'RMSprop', 'n_layers': 4, 'n_units_l0': 7, 'n_units_l1': 9, 'n_units_l2': 7, 'n_units_l3': 8}. Best is trial 14 with value: 0.8142857142857143.\u001b[0m\n"
     ]
    },
    {
     "name": "stderr",
     "output_type": "stream",
     "text": [
      "\u001b[32m[I 2022-08-30 17:37:21,190]\u001b[0m A new study created in memory with name: no-name-90a57037-8aec-4f4e-aea2-4138a000a164\u001b[0m\n"
     ]
    },
    {
     "name": "stdout",
     "output_type": "stream",
     "text": [
      "\u001b[32m[I 2022-08-30 17:37:21,103]\u001b[0m Trial 23 finished with value: 0.7785714285714286 and parameters: {'learning_rate': 0.0023156439059263886, 'optimizer': 'RMSprop', 'n_layers': 2, 'n_units_l0': 6, 'n_units_l1': 8}. Best is trial 14 with value: 0.8142857142857143.\u001b[0m\n",
      "\u001b[32m[I 2022-08-30 17:37:21,187]\u001b[0m Trial 24 pruned. \u001b[0m\n"
     ]
    },
    {
     "name": "stderr",
     "output_type": "stream",
     "text": [
      "c:\\Users\\Mohsen\\anaconda3\\envs\\CLP\\lib\\site-packages\\optuna\\progress_bar.py:47: ExperimentalWarning: Progress bar is experimental (supported from v1.2.0). The interface can change in the future.\n",
      "  self._init_valid()\n"
     ]
    },
    {
     "data": {
      "application/vnd.jupyter.widget-view+json": {
       "model_id": "711f34b989da4debb9a8e132f7640d00",
       "version_major": 2,
       "version_minor": 0
      },
      "text/plain": [
       "  0%|          | 0/25 [00:00<?, ?it/s]"
      ]
     },
     "metadata": {},
     "output_type": "display_data"
    },
    {
     "name": "stdout",
     "output_type": "stream",
     "text": [
      "\u001b[32m[I 2022-08-30 17:38:21,715]\u001b[0m Trial 0 finished with value: 0.7928571428571428 and parameters: {'learning_rate': 0.002604221510711775, 'optimizer': 'Adam', 'n_layers': 2, 'n_units_l0': 8, 'n_units_l1': 10}. Best is trial 0 with value: 0.7928571428571428.\u001b[0m\n",
      "\u001b[32m[I 2022-08-30 17:39:00,869]\u001b[0m Trial 1 finished with value: 0.7142857142857143 and parameters: {'learning_rate': 1.7778545946712275e-05, 'optimizer': 'SGD', 'n_layers': 2, 'n_units_l0': 4, 'n_units_l1': 4}. Best is trial 0 with value: 0.7928571428571428.\u001b[0m\n",
      "\u001b[32m[I 2022-08-30 17:40:18,606]\u001b[0m Trial 2 finished with value: 0.7785714285714286 and parameters: {'learning_rate': 0.08120978549934135, 'optimizer': 'RMSprop', 'n_layers': 4, 'n_units_l0': 5, 'n_units_l1': 9, 'n_units_l2': 5, 'n_units_l3': 5}. Best is trial 0 with value: 0.7928571428571428.\u001b[0m\n",
      "\u001b[32m[I 2022-08-30 17:41:00,256]\u001b[0m Trial 3 finished with value: 0.75 and parameters: {'learning_rate': 1.3358858864654826e-05, 'optimizer': 'SGD', 'n_layers': 2, 'n_units_l0': 8, 'n_units_l1': 6}. Best is trial 0 with value: 0.7928571428571428.\u001b[0m\n",
      "\u001b[32m[I 2022-08-30 17:42:19,607]\u001b[0m Trial 4 finished with value: 0.8214285714285714 and parameters: {'learning_rate': 0.07048787284026163, 'optimizer': 'RMSprop', 'n_layers': 5, 'n_units_l0': 6, 'n_units_l1': 9, 'n_units_l2': 7, 'n_units_l3': 7, 'n_units_l4': 5}. Best is trial 4 with value: 0.8214285714285714.\u001b[0m\n",
      "\u001b[32m[I 2022-08-30 17:42:20,723]\u001b[0m Trial 5 pruned. \u001b[0m\n",
      "\u001b[32m[I 2022-08-30 17:42:22,074]\u001b[0m Trial 6 pruned. \u001b[0m\n",
      "\u001b[32m[I 2022-08-30 17:42:22,991]\u001b[0m Trial 7 pruned. \u001b[0m\n",
      "\u001b[32m[I 2022-08-30 17:42:23,849]\u001b[0m Trial 8 pruned. \u001b[0m\n",
      "\u001b[32m[I 2022-08-30 17:42:24,592]\u001b[0m Trial 9 pruned. \u001b[0m\n",
      "\u001b[32m[I 2022-08-30 17:42:25,969]\u001b[0m Trial 10 pruned. \u001b[0m\n",
      "\u001b[32m[I 2022-08-30 17:42:26,893]\u001b[0m Trial 11 pruned. \u001b[0m\n",
      "\u001b[32m[I 2022-08-30 17:42:27,850]\u001b[0m Trial 12 pruned. \u001b[0m\n",
      "\u001b[32m[I 2022-08-30 17:42:28,979]\u001b[0m Trial 13 pruned. \u001b[0m\n",
      "\u001b[32m[I 2022-08-30 17:42:29,572]\u001b[0m Trial 14 pruned. \u001b[0m\n",
      "\u001b[32m[I 2022-08-30 17:42:30,784]\u001b[0m Trial 15 pruned. \u001b[0m\n",
      "\u001b[32m[I 2022-08-30 17:42:54,315]\u001b[0m Trial 16 pruned. \u001b[0m\n",
      "\u001b[32m[I 2022-08-30 17:42:55,064]\u001b[0m Trial 17 pruned. \u001b[0m\n",
      "\u001b[32m[I 2022-08-30 17:42:56,306]\u001b[0m Trial 18 pruned. \u001b[0m\n",
      "\u001b[32m[I 2022-08-30 17:42:56,961]\u001b[0m Trial 19 pruned. \u001b[0m\n",
      "\u001b[32m[I 2022-08-30 17:42:57,817]\u001b[0m Trial 20 pruned. \u001b[0m\n",
      "\u001b[32m[I 2022-08-30 17:42:58,670]\u001b[0m Trial 21 pruned. \u001b[0m\n",
      "\u001b[32m[I 2022-08-30 17:42:59,629]\u001b[0m Trial 22 pruned. \u001b[0m\n",
      "\u001b[32m[I 2022-08-30 17:43:00,477]\u001b[0m Trial 23 pruned. \u001b[0m\n"
     ]
    },
    {
     "name": "stderr",
     "output_type": "stream",
     "text": [
      "\u001b[32m[I 2022-08-30 17:43:01,432]\u001b[0m A new study created in memory with name: no-name-64140229-c7b8-4fcb-9b90-8cc245025c24\u001b[0m\n"
     ]
    },
    {
     "name": "stdout",
     "output_type": "stream",
     "text": [
      "\u001b[32m[I 2022-08-30 17:43:01,427]\u001b[0m Trial 24 pruned. \u001b[0m\n"
     ]
    },
    {
     "name": "stderr",
     "output_type": "stream",
     "text": [
      "c:\\Users\\Mohsen\\anaconda3\\envs\\CLP\\lib\\site-packages\\optuna\\progress_bar.py:47: ExperimentalWarning: Progress bar is experimental (supported from v1.2.0). The interface can change in the future.\n",
      "  self._init_valid()\n"
     ]
    },
    {
     "data": {
      "application/vnd.jupyter.widget-view+json": {
       "model_id": "244d52e8cf014981a0d26cd9b9d9a5f0",
       "version_major": 2,
       "version_minor": 0
      },
      "text/plain": [
       "  0%|          | 0/25 [00:00<?, ?it/s]"
      ]
     },
     "metadata": {},
     "output_type": "display_data"
    },
    {
     "name": "stdout",
     "output_type": "stream",
     "text": [
      "\u001b[32m[I 2022-08-30 17:43:45,822]\u001b[0m Trial 0 finished with value: 0.75 and parameters: {'learning_rate': 0.00035528043804131007, 'optimizer': 'Adam', 'n_layers': 4, 'n_units_l0': 10, 'n_units_l1': 5, 'n_units_l2': 8, 'n_units_l3': 9}. Best is trial 0 with value: 0.75.\u001b[0m\n",
      "\u001b[32m[I 2022-08-30 17:44:17,847]\u001b[0m Trial 1 finished with value: 0.7857142857142857 and parameters: {'learning_rate': 0.053738456293970345, 'optimizer': 'Adam', 'n_layers': 2, 'n_units_l0': 7, 'n_units_l1': 8}. Best is trial 1 with value: 0.7857142857142857.\u001b[0m\n",
      "\u001b[32m[I 2022-08-30 17:44:43,992]\u001b[0m Trial 2 finished with value: 0.7928571428571428 and parameters: {'learning_rate': 0.0005066923290593876, 'optimizer': 'RMSprop', 'n_layers': 2, 'n_units_l0': 10, 'n_units_l1': 4}. Best is trial 2 with value: 0.7928571428571428.\u001b[0m\n",
      "\u001b[32m[I 2022-08-30 17:45:07,206]\u001b[0m Trial 3 finished with value: 0.7214285714285714 and parameters: {'learning_rate': 0.000628458603893533, 'optimizer': 'SGD', 'n_layers': 3, 'n_units_l0': 4, 'n_units_l1': 10, 'n_units_l2': 10}. Best is trial 2 with value: 0.7928571428571428.\u001b[0m\n",
      "\u001b[32m[I 2022-08-30 17:45:41,669]\u001b[0m Trial 4 finished with value: 0.6857142857142857 and parameters: {'learning_rate': 1.663071688531233e-05, 'optimizer': 'Adam', 'n_layers': 3, 'n_units_l0': 9, 'n_units_l1': 10, 'n_units_l2': 9}. Best is trial 2 with value: 0.7928571428571428.\u001b[0m\n",
      "\u001b[32m[I 2022-08-30 17:45:48,940]\u001b[0m Trial 5 pruned. \u001b[0m\n",
      "\u001b[32m[I 2022-08-30 17:46:17,396]\u001b[0m Trial 6 finished with value: 0.7857142857142857 and parameters: {'learning_rate': 0.034744470657649525, 'optimizer': 'SGD', 'n_layers': 5, 'n_units_l0': 4, 'n_units_l1': 4, 'n_units_l2': 5, 'n_units_l3': 8, 'n_units_l4': 4}. Best is trial 2 with value: 0.7928571428571428.\u001b[0m\n",
      "\u001b[32m[I 2022-08-30 17:46:59,692]\u001b[0m Trial 7 finished with value: 0.8 and parameters: {'learning_rate': 0.06429853896845293, 'optimizer': 'Adam', 'n_layers': 4, 'n_units_l0': 5, 'n_units_l1': 8, 'n_units_l2': 10, 'n_units_l3': 5}. Best is trial 7 with value: 0.8.\u001b[0m\n",
      "\u001b[32m[I 2022-08-30 17:47:24,146]\u001b[0m Trial 8 finished with value: 0.7928571428571428 and parameters: {'learning_rate': 0.0003013609728750822, 'optimizer': 'RMSprop', 'n_layers': 2, 'n_units_l0': 10, 'n_units_l1': 10}. Best is trial 7 with value: 0.8.\u001b[0m\n",
      "\u001b[32m[I 2022-08-30 17:47:24,687]\u001b[0m Trial 9 pruned. \u001b[0m\n",
      "\u001b[32m[I 2022-08-30 17:47:25,157]\u001b[0m Trial 10 pruned. \u001b[0m\n",
      "\u001b[32m[I 2022-08-30 17:48:00,349]\u001b[0m Trial 11 finished with value: 0.8 and parameters: {'learning_rate': 0.0031978331528223756, 'optimizer': 'RMSprop', 'n_layers': 4, 'n_units_l0': 6, 'n_units_l1': 7, 'n_units_l2': 7, 'n_units_l3': 5}. Best is trial 7 with value: 0.8.\u001b[0m\n",
      "\u001b[32m[I 2022-08-30 17:48:36,680]\u001b[0m Trial 12 finished with value: 0.7928571428571428 and parameters: {'learning_rate': 0.0038437184756760423, 'optimizer': 'RMSprop', 'n_layers': 4, 'n_units_l0': 6, 'n_units_l1': 7, 'n_units_l2': 7, 'n_units_l3': 5}. Best is trial 7 with value: 0.8.\u001b[0m\n",
      "\u001b[32m[I 2022-08-30 17:49:11,021]\u001b[0m Trial 13 finished with value: 0.8142857142857143 and parameters: {'learning_rate': 0.08872071038345254, 'optimizer': 'RMSprop', 'n_layers': 4, 'n_units_l0': 6, 'n_units_l1': 8, 'n_units_l2': 6, 'n_units_l3': 6}. Best is trial 13 with value: 0.8142857142857143.\u001b[0m\n",
      "\u001b[32m[I 2022-08-30 17:49:50,463]\u001b[0m Trial 14 finished with value: 0.7571428571428571 and parameters: {'learning_rate': 0.09629493956722834, 'optimizer': 'RMSprop', 'n_layers': 5, 'n_units_l0': 5, 'n_units_l1': 8, 'n_units_l2': 4, 'n_units_l3': 6, 'n_units_l4': 7}. Best is trial 13 with value: 0.8142857142857143.\u001b[0m\n",
      "\u001b[32m[I 2022-08-30 17:50:04,097]\u001b[0m Trial 15 pruned. \u001b[0m\n",
      "\u001b[32m[I 2022-08-30 17:50:04,464]\u001b[0m Trial 16 pruned. \u001b[0m\n",
      "\u001b[32m[I 2022-08-30 17:50:13,598]\u001b[0m Trial 17 pruned. \u001b[0m\n",
      "\u001b[32m[I 2022-08-30 17:50:14,125]\u001b[0m Trial 18 pruned. \u001b[0m\n",
      "\u001b[32m[I 2022-08-30 17:50:14,401]\u001b[0m Trial 19 pruned. \u001b[0m\n",
      "\u001b[32m[I 2022-08-30 17:50:14,885]\u001b[0m Trial 20 pruned. \u001b[0m\n",
      "\u001b[32m[I 2022-08-30 17:50:15,302]\u001b[0m Trial 21 pruned. \u001b[0m\n",
      "\u001b[32m[I 2022-08-30 17:50:15,724]\u001b[0m Trial 22 pruned. \u001b[0m\n",
      "\u001b[32m[I 2022-08-30 17:50:16,161]\u001b[0m Trial 23 pruned. \u001b[0m\n"
     ]
    },
    {
     "name": "stderr",
     "output_type": "stream",
     "text": [
      "\u001b[32m[I 2022-08-30 17:50:51,408]\u001b[0m A new study created in memory with name: no-name-ff710846-42f1-4771-a021-9c303d845a06\u001b[0m\n"
     ]
    },
    {
     "name": "stdout",
     "output_type": "stream",
     "text": [
      "\u001b[32m[I 2022-08-30 17:50:51,404]\u001b[0m Trial 24 finished with value: 0.8 and parameters: {'learning_rate': 0.04163059510861119, 'optimizer': 'RMSprop', 'n_layers': 4, 'n_units_l0': 6, 'n_units_l1': 7, 'n_units_l2': 5, 'n_units_l3': 5}. Best is trial 13 with value: 0.8142857142857143.\u001b[0m\n"
     ]
    },
    {
     "name": "stderr",
     "output_type": "stream",
     "text": [
      "c:\\Users\\Mohsen\\anaconda3\\envs\\CLP\\lib\\site-packages\\optuna\\progress_bar.py:47: ExperimentalWarning: Progress bar is experimental (supported from v1.2.0). The interface can change in the future.\n",
      "  self._init_valid()\n"
     ]
    },
    {
     "data": {
      "application/vnd.jupyter.widget-view+json": {
       "model_id": "6c41f0aea65f42138a5ab965945fd4dd",
       "version_major": 2,
       "version_minor": 0
      },
      "text/plain": [
       "  0%|          | 0/25 [00:00<?, ?it/s]"
      ]
     },
     "metadata": {},
     "output_type": "display_data"
    },
    {
     "name": "stdout",
     "output_type": "stream",
     "text": [
      "\u001b[32m[I 2022-08-30 17:51:07,484]\u001b[0m Trial 0 finished with value: 0.3142857142857143 and parameters: {'learning_rate': 4.135919163085504e-05, 'optimizer': 'SGD', 'n_layers': 5, 'n_units_l0': 9, 'n_units_l1': 6, 'n_units_l2': 7, 'n_units_l3': 9, 'n_units_l4': 6}. Best is trial 0 with value: 0.3142857142857143.\u001b[0m\n",
      "\u001b[32m[I 2022-08-30 17:51:19,387]\u001b[0m Trial 1 finished with value: 0.25 and parameters: {'learning_rate': 0.0005386061458093925, 'optimizer': 'SGD', 'n_layers': 3, 'n_units_l0': 6, 'n_units_l1': 4, 'n_units_l2': 9}. Best is trial 0 with value: 0.3142857142857143.\u001b[0m\n",
      "\u001b[32m[I 2022-08-30 17:51:35,385]\u001b[0m Trial 2 finished with value: 0.7 and parameters: {'learning_rate': 0.003606530942689915, 'optimizer': 'SGD', 'n_layers': 3, 'n_units_l0': 10, 'n_units_l1': 4, 'n_units_l2': 10}. Best is trial 2 with value: 0.7.\u001b[0m\n",
      "\u001b[32m[I 2022-08-30 17:51:48,435]\u001b[0m Trial 3 finished with value: 0.6714285714285714 and parameters: {'learning_rate': 0.002056713470665186, 'optimizer': 'SGD', 'n_layers': 4, 'n_units_l0': 10, 'n_units_l1': 9, 'n_units_l2': 8, 'n_units_l3': 5}. Best is trial 2 with value: 0.7.\u001b[0m\n",
      "\u001b[32m[I 2022-08-30 17:52:03,564]\u001b[0m Trial 4 finished with value: 0.8071428571428572 and parameters: {'learning_rate': 0.0016145903565396957, 'optimizer': 'Adam', 'n_layers': 2, 'n_units_l0': 10, 'n_units_l1': 4}. Best is trial 4 with value: 0.8071428571428572.\u001b[0m\n",
      "\u001b[32m[I 2022-08-30 17:52:03,734]\u001b[0m Trial 5 pruned. \u001b[0m\n",
      "\u001b[32m[I 2022-08-30 17:52:22,928]\u001b[0m Trial 6 finished with value: 0.7071428571428572 and parameters: {'learning_rate': 2.1851748882845823e-05, 'optimizer': 'Adam', 'n_layers': 3, 'n_units_l0': 9, 'n_units_l1': 4, 'n_units_l2': 7}. Best is trial 4 with value: 0.8071428571428572.\u001b[0m\n",
      "\u001b[32m[I 2022-08-30 17:52:42,099]\u001b[0m Trial 7 finished with value: 0.8 and parameters: {'learning_rate': 0.0004027442516690287, 'optimizer': 'Adam', 'n_layers': 3, 'n_units_l0': 7, 'n_units_l1': 9, 'n_units_l2': 9}. Best is trial 4 with value: 0.8071428571428572.\u001b[0m\n",
      "\u001b[32m[I 2022-08-30 17:52:42,280]\u001b[0m Trial 8 pruned. \u001b[0m\n",
      "\u001b[32m[I 2022-08-30 17:52:59,800]\u001b[0m Trial 9 finished with value: 0.7642857142857142 and parameters: {'learning_rate': 0.0014162307706096478, 'optimizer': 'Adam', 'n_layers': 3, 'n_units_l0': 10, 'n_units_l1': 6, 'n_units_l2': 8}. Best is trial 4 with value: 0.8071428571428572.\u001b[0m\n",
      "\u001b[32m[I 2022-08-30 17:53:12,519]\u001b[0m Trial 10 finished with value: 0.7714285714285715 and parameters: {'learning_rate': 0.061792455763062665, 'optimizer': 'RMSprop', 'n_layers': 2, 'n_units_l0': 4, 'n_units_l1': 7}. Best is trial 4 with value: 0.8071428571428572.\u001b[0m\n",
      "\u001b[32m[I 2022-08-30 17:53:12,725]\u001b[0m Trial 11 pruned. \u001b[0m\n",
      "\u001b[32m[I 2022-08-30 17:53:27,947]\u001b[0m Trial 12 finished with value: 0.7642857142857142 and parameters: {'learning_rate': 0.0005412858581496109, 'optimizer': 'Adam', 'n_layers': 2, 'n_units_l0': 7, 'n_units_l1': 10}. Best is trial 4 with value: 0.8071428571428572.\u001b[0m\n",
      "\u001b[32m[I 2022-08-30 17:53:28,246]\u001b[0m Trial 13 pruned. \u001b[0m\n",
      "\u001b[32m[I 2022-08-30 17:53:43,355]\u001b[0m Trial 14 finished with value: 0.7928571428571428 and parameters: {'learning_rate': 0.007887914947450515, 'optimizer': 'Adam', 'n_layers': 2, 'n_units_l0': 5, 'n_units_l1': 8}. Best is trial 4 with value: 0.8071428571428572.\u001b[0m\n",
      "\u001b[32m[I 2022-08-30 17:54:04,398]\u001b[0m Trial 15 finished with value: 0.7857142857142857 and parameters: {'learning_rate': 0.00017495915239939018, 'optimizer': 'Adam', 'n_layers': 4, 'n_units_l0': 8, 'n_units_l1': 9, 'n_units_l2': 5, 'n_units_l3': 7}. Best is trial 4 with value: 0.8071428571428572.\u001b[0m\n",
      "\u001b[32m[I 2022-08-30 17:54:19,045]\u001b[0m Trial 16 finished with value: 0.8142857142857143 and parameters: {'learning_rate': 0.03023246817912945, 'optimizer': 'Adam', 'n_layers': 2, 'n_units_l0': 6, 'n_units_l1': 6}. Best is trial 16 with value: 0.8142857142857143.\u001b[0m\n",
      "\u001b[32m[I 2022-08-30 17:54:19,202]\u001b[0m Trial 17 pruned. \u001b[0m\n",
      "\u001b[32m[I 2022-08-30 17:54:34,558]\u001b[0m Trial 18 finished with value: 0.8428571428571429 and parameters: {'learning_rate': 0.005537495953493817, 'optimizer': 'Adam', 'n_layers': 2, 'n_units_l0': 6, 'n_units_l1': 5}. Best is trial 18 with value: 0.8428571428571429.\u001b[0m\n",
      "\u001b[32m[I 2022-08-30 17:54:34,757]\u001b[0m Trial 19 pruned. \u001b[0m\n",
      "\u001b[32m[I 2022-08-30 17:54:34,930]\u001b[0m Trial 20 pruned. \u001b[0m\n",
      "\u001b[32m[I 2022-08-30 17:54:35,128]\u001b[0m Trial 21 pruned. \u001b[0m\n",
      "\u001b[32m[I 2022-08-30 17:54:35,333]\u001b[0m Trial 22 pruned. \u001b[0m\n",
      "\u001b[32m[I 2022-08-30 17:54:35,523]\u001b[0m Trial 23 pruned. \u001b[0m\n"
     ]
    },
    {
     "name": "stderr",
     "output_type": "stream",
     "text": [
      "\u001b[32m[I 2022-08-30 17:54:53,516]\u001b[0m A new study created in memory with name: no-name-b5688c3a-7ca4-447c-bd9f-bbe0380e7421\u001b[0m\n"
     ]
    },
    {
     "name": "stdout",
     "output_type": "stream",
     "text": [
      "\u001b[32m[I 2022-08-30 17:54:53,511]\u001b[0m Trial 24 finished with value: 0.8142857142857143 and parameters: {'learning_rate': 0.002892004808356516, 'optimizer': 'Adam', 'n_layers': 3, 'n_units_l0': 7, 'n_units_l1': 7, 'n_units_l2': 5}. Best is trial 18 with value: 0.8428571428571429.\u001b[0m\n"
     ]
    },
    {
     "name": "stderr",
     "output_type": "stream",
     "text": [
      "c:\\Users\\Mohsen\\anaconda3\\envs\\CLP\\lib\\site-packages\\optuna\\progress_bar.py:47: ExperimentalWarning: Progress bar is experimental (supported from v1.2.0). The interface can change in the future.\n",
      "  self._init_valid()\n"
     ]
    },
    {
     "data": {
      "application/vnd.jupyter.widget-view+json": {
       "model_id": "aadb75a291fc41c6bed7cb911527be80",
       "version_major": 2,
       "version_minor": 0
      },
      "text/plain": [
       "  0%|          | 0/25 [00:00<?, ?it/s]"
      ]
     },
     "metadata": {},
     "output_type": "display_data"
    },
    {
     "name": "stdout",
     "output_type": "stream",
     "text": [
      "\u001b[32m[I 2022-08-30 17:55:00,460]\u001b[0m Trial 0 finished with value: 0.24285714285714285 and parameters: {'learning_rate': 0.018055609454283132, 'optimizer': 'SGD', 'n_layers': 4, 'n_units_l0': 10, 'n_units_l1': 4, 'n_units_l2': 8, 'n_units_l3': 8}. Best is trial 0 with value: 0.24285714285714285.\u001b[0m\n",
      "\u001b[32m[I 2022-08-30 17:55:08,127]\u001b[0m Trial 1 finished with value: 0.7714285714285715 and parameters: {'learning_rate': 0.0014031472806917532, 'optimizer': 'Adam', 'n_layers': 2, 'n_units_l0': 5, 'n_units_l1': 8}. Best is trial 1 with value: 0.7714285714285715.\u001b[0m\n",
      "\u001b[32m[I 2022-08-30 17:55:18,158]\u001b[0m Trial 2 finished with value: 0.8 and parameters: {'learning_rate': 0.0044776020261835985, 'optimizer': 'RMSprop', 'n_layers': 5, 'n_units_l0': 5, 'n_units_l1': 5, 'n_units_l2': 8, 'n_units_l3': 5, 'n_units_l4': 8}. Best is trial 2 with value: 0.8.\u001b[0m\n",
      "\u001b[32m[I 2022-08-30 17:55:25,831]\u001b[0m Trial 3 finished with value: 0.7428571428571429 and parameters: {'learning_rate': 0.02521276433927627, 'optimizer': 'SGD', 'n_layers': 5, 'n_units_l0': 4, 'n_units_l1': 9, 'n_units_l2': 5, 'n_units_l3': 6, 'n_units_l4': 5}. Best is trial 2 with value: 0.8.\u001b[0m\n",
      "\u001b[32m[I 2022-08-30 17:55:33,495]\u001b[0m Trial 4 finished with value: 0.21428571428571427 and parameters: {'learning_rate': 0.0009421096214547335, 'optimizer': 'SGD', 'n_layers': 5, 'n_units_l0': 6, 'n_units_l1': 5, 'n_units_l2': 8, 'n_units_l3': 6, 'n_units_l4': 4}. Best is trial 2 with value: 0.8.\u001b[0m\n",
      "\u001b[32m[I 2022-08-30 17:55:34,284]\u001b[0m Trial 5 pruned. \u001b[0m\n",
      "\u001b[32m[I 2022-08-30 17:55:42,051]\u001b[0m Trial 6 finished with value: 0.7928571428571428 and parameters: {'learning_rate': 0.009361528376952734, 'optimizer': 'Adam', 'n_layers': 2, 'n_units_l0': 9, 'n_units_l1': 8}. Best is trial 2 with value: 0.8.\u001b[0m\n",
      "\u001b[32m[I 2022-08-30 17:55:42,141]\u001b[0m Trial 7 pruned. \u001b[0m\n",
      "\u001b[32m[I 2022-08-30 17:55:42,334]\u001b[0m Trial 8 pruned. \u001b[0m\n",
      "\u001b[32m[I 2022-08-30 17:55:42,669]\u001b[0m Trial 9 pruned. \u001b[0m\n",
      "\u001b[32m[I 2022-08-30 17:55:42,828]\u001b[0m Trial 10 pruned. \u001b[0m\n",
      "\u001b[32m[I 2022-08-30 17:55:51,188]\u001b[0m Trial 11 finished with value: 0.8142857142857143 and parameters: {'learning_rate': 0.006756951198306498, 'optimizer': 'RMSprop', 'n_layers': 3, 'n_units_l0': 9, 'n_units_l1': 7, 'n_units_l2': 5}. Best is trial 11 with value: 0.8142857142857143.\u001b[0m\n",
      "\u001b[32m[I 2022-08-30 17:55:51,997]\u001b[0m Trial 12 pruned. \u001b[0m\n",
      "\u001b[32m[I 2022-08-30 17:55:52,323]\u001b[0m Trial 13 pruned. \u001b[0m\n",
      "\u001b[32m[I 2022-08-30 17:55:52,663]\u001b[0m Trial 14 pruned. \u001b[0m\n",
      "\u001b[32m[I 2022-08-30 17:55:55,459]\u001b[0m Trial 15 pruned. \u001b[0m\n",
      "\u001b[32m[I 2022-08-30 17:55:55,843]\u001b[0m Trial 16 pruned. \u001b[0m\n",
      "\u001b[32m[I 2022-08-30 17:55:56,003]\u001b[0m Trial 17 pruned. \u001b[0m\n",
      "\u001b[32m[I 2022-08-30 17:55:56,119]\u001b[0m Trial 18 pruned. \u001b[0m\n",
      "\u001b[32m[I 2022-08-30 17:56:03,173]\u001b[0m Trial 19 finished with value: 0.8214285714285714 and parameters: {'learning_rate': 0.0028461441977425265, 'optimizer': 'RMSprop', 'n_layers': 2, 'n_units_l0': 6, 'n_units_l1': 10}. Best is trial 19 with value: 0.8214285714285714.\u001b[0m\n",
      "\u001b[32m[I 2022-08-30 17:56:11,770]\u001b[0m Trial 20 finished with value: 0.8142857142857143 and parameters: {'learning_rate': 0.002311049716599635, 'optimizer': 'Adam', 'n_layers': 2, 'n_units_l0': 6, 'n_units_l1': 10}. Best is trial 19 with value: 0.8214285714285714.\u001b[0m\n",
      "\u001b[32m[I 2022-08-30 17:56:12,812]\u001b[0m Trial 21 pruned. \u001b[0m\n",
      "\u001b[32m[I 2022-08-30 17:56:21,186]\u001b[0m Trial 22 finished with value: 0.7785714285714286 and parameters: {'learning_rate': 0.01508202202041078, 'optimizer': 'Adam', 'n_layers': 2, 'n_units_l0': 6, 'n_units_l1': 9}. Best is trial 19 with value: 0.8214285714285714.\u001b[0m\n",
      "\u001b[32m[I 2022-08-30 17:56:21,382]\u001b[0m Trial 23 pruned. \u001b[0m\n"
     ]
    },
    {
     "name": "stderr",
     "output_type": "stream",
     "text": [
      "\u001b[32m[I 2022-08-30 17:56:21,513]\u001b[0m A new study created in memory with name: no-name-133d0e77-79cd-4457-a8db-757b58ce4bed\u001b[0m\n"
     ]
    },
    {
     "name": "stdout",
     "output_type": "stream",
     "text": [
      "\u001b[32m[I 2022-08-30 17:56:21,509]\u001b[0m Trial 24 pruned. \u001b[0m\n"
     ]
    },
    {
     "name": "stderr",
     "output_type": "stream",
     "text": [
      "c:\\Users\\Mohsen\\anaconda3\\envs\\CLP\\lib\\site-packages\\optuna\\progress_bar.py:47: ExperimentalWarning: Progress bar is experimental (supported from v1.2.0). The interface can change in the future.\n",
      "  self._init_valid()\n"
     ]
    },
    {
     "data": {
      "application/vnd.jupyter.widget-view+json": {
       "model_id": "9c5179fc729a4ad59e4c2ab9699c6647",
       "version_major": 2,
       "version_minor": 0
      },
      "text/plain": [
       "  0%|          | 0/25 [00:00<?, ?it/s]"
      ]
     },
     "metadata": {},
     "output_type": "display_data"
    },
    {
     "name": "stdout",
     "output_type": "stream",
     "text": [
      "\u001b[32m[I 2022-08-30 17:56:27,226]\u001b[0m Trial 0 finished with value: 0.7714285714285715 and parameters: {'learning_rate': 0.00183192974949925, 'optimizer': 'Adam', 'n_layers': 3, 'n_units_l0': 10, 'n_units_l1': 4, 'n_units_l2': 4}. Best is trial 0 with value: 0.7714285714285715.\u001b[0m\n",
      "\u001b[32m[I 2022-08-30 17:56:31,869]\u001b[0m Trial 1 finished with value: 0.7071428571428572 and parameters: {'learning_rate': 7.029779922993398e-05, 'optimizer': 'RMSprop', 'n_layers': 3, 'n_units_l0': 10, 'n_units_l1': 4, 'n_units_l2': 9}. Best is trial 0 with value: 0.7714285714285715.\u001b[0m\n",
      "\u001b[32m[I 2022-08-30 17:56:37,540]\u001b[0m Trial 2 finished with value: 0.8428571428571429 and parameters: {'learning_rate': 0.0012688926972665147, 'optimizer': 'Adam', 'n_layers': 3, 'n_units_l0': 8, 'n_units_l1': 10, 'n_units_l2': 4}. Best is trial 2 with value: 0.8428571428571429.\u001b[0m\n",
      "\u001b[32m[I 2022-08-30 17:56:43,557]\u001b[0m Trial 3 finished with value: 0.8071428571428572 and parameters: {'learning_rate': 5.6728028497272206e-05, 'optimizer': 'Adam', 'n_layers': 4, 'n_units_l0': 4, 'n_units_l1': 10, 'n_units_l2': 5, 'n_units_l3': 10}. Best is trial 2 with value: 0.8428571428571429.\u001b[0m\n",
      "\u001b[32m[I 2022-08-30 17:56:48,843]\u001b[0m Trial 4 finished with value: 0.7357142857142858 and parameters: {'learning_rate': 1.7058721399528752e-05, 'optimizer': 'Adam', 'n_layers': 3, 'n_units_l0': 8, 'n_units_l1': 9, 'n_units_l2': 6}. Best is trial 2 with value: 0.8428571428571429.\u001b[0m\n",
      "\u001b[32m[I 2022-08-30 17:56:48,905]\u001b[0m Trial 5 pruned. \u001b[0m\n",
      "\u001b[32m[I 2022-08-30 17:56:50,226]\u001b[0m Trial 6 pruned. \u001b[0m\n",
      "\u001b[32m[I 2022-08-30 17:56:50,722]\u001b[0m Trial 7 pruned. \u001b[0m\n",
      "\u001b[32m[I 2022-08-30 17:56:55,110]\u001b[0m Trial 8 finished with value: 0.8571428571428571 and parameters: {'learning_rate': 0.0052191680139305145, 'optimizer': 'RMSprop', 'n_layers': 2, 'n_units_l0': 6, 'n_units_l1': 9}. Best is trial 8 with value: 0.8571428571428571.\u001b[0m\n",
      "\u001b[32m[I 2022-08-30 17:56:57,398]\u001b[0m Trial 9 pruned. \u001b[0m\n",
      "\u001b[32m[I 2022-08-30 17:56:57,476]\u001b[0m Trial 10 pruned. \u001b[0m\n",
      "\u001b[32m[I 2022-08-30 17:57:03,901]\u001b[0m Trial 11 finished with value: 0.7714285714285715 and parameters: {'learning_rate': 0.014317381420648343, 'optimizer': 'Adam', 'n_layers': 4, 'n_units_l0': 6, 'n_units_l1': 6, 'n_units_l2': 4, 'n_units_l3': 4}. Best is trial 8 with value: 0.8571428571428571.\u001b[0m\n",
      "\u001b[32m[I 2022-08-30 17:57:05,884]\u001b[0m Trial 12 pruned. \u001b[0m\n",
      "\u001b[32m[I 2022-08-30 17:57:12,658]\u001b[0m Trial 13 finished with value: 0.75 and parameters: {'learning_rate': 0.07802865824490027, 'optimizer': 'Adam', 'n_layers': 4, 'n_units_l0': 6, 'n_units_l1': 9, 'n_units_l2': 10, 'n_units_l3': 10}. Best is trial 8 with value: 0.8571428571428571.\u001b[0m\n",
      "\u001b[32m[I 2022-08-30 17:57:12,737]\u001b[0m Trial 14 pruned. \u001b[0m\n",
      "\u001b[32m[I 2022-08-30 17:57:17,429]\u001b[0m Trial 15 finished with value: 0.7857142857142857 and parameters: {'learning_rate': 0.014161865160197051, 'optimizer': 'RMSprop', 'n_layers': 3, 'n_units_l0': 7, 'n_units_l1': 8, 'n_units_l2': 6}. Best is trial 8 with value: 0.8571428571428571.\u001b[0m\n",
      "\u001b[32m[I 2022-08-30 17:57:20,671]\u001b[0m Trial 16 pruned. \u001b[0m\n",
      "\u001b[32m[I 2022-08-30 17:57:20,755]\u001b[0m Trial 17 pruned. \u001b[0m\n",
      "\u001b[32m[I 2022-08-30 17:57:20,854]\u001b[0m Trial 18 pruned. \u001b[0m\n",
      "\u001b[32m[I 2022-08-30 17:57:22,948]\u001b[0m Trial 19 pruned. \u001b[0m\n",
      "\u001b[32m[I 2022-08-30 17:57:24,790]\u001b[0m Trial 20 pruned. \u001b[0m\n",
      "\u001b[32m[I 2022-08-30 17:57:27,773]\u001b[0m Trial 21 pruned. \u001b[0m\n",
      "\u001b[32m[I 2022-08-30 17:57:27,935]\u001b[0m Trial 22 pruned. \u001b[0m\n",
      "\u001b[32m[I 2022-08-30 17:57:31,924]\u001b[0m Trial 23 pruned. \u001b[0m\n"
     ]
    },
    {
     "name": "stderr",
     "output_type": "stream",
     "text": [
      "\u001b[32m[I 2022-08-30 17:57:35,658]\u001b[0m A new study created in memory with name: no-name-f0f8c15d-942d-4b0f-880a-066fcad18f6e\u001b[0m\n"
     ]
    },
    {
     "name": "stdout",
     "output_type": "stream",
     "text": [
      "\u001b[32m[I 2022-08-30 17:57:35,653]\u001b[0m Trial 24 pruned. \u001b[0m\n"
     ]
    },
    {
     "name": "stderr",
     "output_type": "stream",
     "text": [
      "c:\\Users\\Mohsen\\anaconda3\\envs\\CLP\\lib\\site-packages\\optuna\\progress_bar.py:47: ExperimentalWarning: Progress bar is experimental (supported from v1.2.0). The interface can change in the future.\n",
      "  self._init_valid()\n"
     ]
    },
    {
     "data": {
      "application/vnd.jupyter.widget-view+json": {
       "model_id": "63f34f9a14d04d6ba8bb0969406648ce",
       "version_major": 2,
       "version_minor": 0
      },
      "text/plain": [
       "  0%|          | 0/25 [00:00<?, ?it/s]"
      ]
     },
     "metadata": {},
     "output_type": "display_data"
    },
    {
     "name": "stdout",
     "output_type": "stream",
     "text": [
      "\u001b[32m[I 2022-08-30 17:59:26,482]\u001b[0m Trial 0 finished with value: 0.8071428571428572 and parameters: {'learning_rate': 0.09840346243107563, 'optimizer': 'Adam', 'n_layers': 3, 'n_units_l0': 4, 'n_units_l1': 8, 'n_units_l2': 9}. Best is trial 0 with value: 0.8071428571428572.\u001b[0m\n",
      "\u001b[32m[I 2022-08-30 18:01:45,108]\u001b[0m Trial 1 finished with value: 0.7714285714285715 and parameters: {'learning_rate': 0.00037315938494068905, 'optimizer': 'Adam', 'n_layers': 5, 'n_units_l0': 5, 'n_units_l1': 5, 'n_units_l2': 4, 'n_units_l3': 8, 'n_units_l4': 9}. Best is trial 0 with value: 0.8071428571428572.\u001b[0m\n",
      "\u001b[32m[I 2022-08-30 18:03:14,518]\u001b[0m Trial 2 finished with value: 0.6857142857142857 and parameters: {'learning_rate': 3.725695266678956e-05, 'optimizer': 'SGD', 'n_layers': 5, 'n_units_l0': 6, 'n_units_l1': 5, 'n_units_l2': 8, 'n_units_l3': 4, 'n_units_l4': 4}. Best is trial 0 with value: 0.8071428571428572.\u001b[0m\n",
      "\u001b[32m[I 2022-08-30 18:05:05,225]\u001b[0m Trial 3 finished with value: 0.7714285714285715 and parameters: {'learning_rate': 0.023934012871219438, 'optimizer': 'Adam', 'n_layers': 4, 'n_units_l0': 8, 'n_units_l1': 7, 'n_units_l2': 8, 'n_units_l3': 9}. Best is trial 0 with value: 0.8071428571428572.\u001b[0m\n",
      "\u001b[32m[I 2022-08-30 18:06:34,292]\u001b[0m Trial 4 finished with value: 0.6642857142857143 and parameters: {'learning_rate': 4.278192754379077e-05, 'optimizer': 'RMSprop', 'n_layers': 4, 'n_units_l0': 9, 'n_units_l1': 4, 'n_units_l2': 6, 'n_units_l3': 9}. Best is trial 0 with value: 0.8071428571428572.\u001b[0m\n",
      "\u001b[32m[I 2022-08-30 18:06:35,838]\u001b[0m Trial 5 pruned. \u001b[0m\n",
      "\u001b[32m[I 2022-08-30 18:06:38,517]\u001b[0m Trial 6 pruned. \u001b[0m\n",
      "\u001b[32m[I 2022-08-30 18:08:13,000]\u001b[0m Trial 7 finished with value: 0.7928571428571428 and parameters: {'learning_rate': 0.000511200937829556, 'optimizer': 'RMSprop', 'n_layers': 4, 'n_units_l0': 8, 'n_units_l1': 8, 'n_units_l2': 6, 'n_units_l3': 6}. Best is trial 0 with value: 0.8071428571428572.\u001b[0m\n",
      "\u001b[32m[I 2022-08-30 18:08:13,604]\u001b[0m Trial 8 pruned. \u001b[0m\n",
      "\u001b[32m[I 2022-08-30 18:08:14,041]\u001b[0m Trial 9 pruned. \u001b[0m\n",
      "\u001b[32m[I 2022-08-30 18:09:53,583]\u001b[0m Trial 10 finished with value: 0.8285714285714286 and parameters: {'learning_rate': 0.008545421175448608, 'optimizer': 'Adam', 'n_layers': 3, 'n_units_l0': 4, 'n_units_l1': 10, 'n_units_l2': 10}. Best is trial 10 with value: 0.8285714285714286.\u001b[0m\n",
      "\u001b[32m[I 2022-08-30 18:09:54,442]\u001b[0m Trial 11 pruned. \u001b[0m\n",
      "\u001b[32m[I 2022-08-30 18:09:55,330]\u001b[0m Trial 12 pruned. \u001b[0m\n",
      "\u001b[32m[I 2022-08-30 18:09:56,226]\u001b[0m Trial 13 pruned. \u001b[0m\n",
      "\u001b[32m[I 2022-08-30 18:09:57,013]\u001b[0m Trial 14 pruned. \u001b[0m\n",
      "\u001b[32m[I 2022-08-30 18:10:18,779]\u001b[0m Trial 15 pruned. \u001b[0m\n",
      "\u001b[32m[I 2022-08-30 18:10:21,455]\u001b[0m Trial 16 pruned. \u001b[0m\n",
      "\u001b[32m[I 2022-08-30 18:10:22,078]\u001b[0m Trial 17 pruned. \u001b[0m\n",
      "\u001b[32m[I 2022-08-30 18:10:22,968]\u001b[0m Trial 18 pruned. \u001b[0m\n",
      "\u001b[32m[I 2022-08-30 18:10:23,954]\u001b[0m Trial 19 pruned. \u001b[0m\n",
      "\u001b[32m[I 2022-08-30 18:10:24,556]\u001b[0m Trial 20 pruned. \u001b[0m\n",
      "\u001b[32m[I 2022-08-30 18:10:25,338]\u001b[0m Trial 21 pruned. \u001b[0m\n",
      "\u001b[32m[I 2022-08-30 18:10:26,084]\u001b[0m Trial 22 pruned. \u001b[0m\n",
      "\u001b[32m[I 2022-08-30 18:12:04,527]\u001b[0m Trial 23 finished with value: 0.8071428571428572 and parameters: {'learning_rate': 0.0008958331451876456, 'optimizer': 'RMSprop', 'n_layers': 4, 'n_units_l0': 9, 'n_units_l1': 6, 'n_units_l2': 6, 'n_units_l3': 6}. Best is trial 10 with value: 0.8285714285714286.\u001b[0m\n"
     ]
    },
    {
     "name": "stderr",
     "output_type": "stream",
     "text": [
      "\u001b[32m[I 2022-08-30 18:12:05,339]\u001b[0m A new study created in memory with name: no-name-43d98b0f-93c3-4a9c-9302-d4efd16e87c7\u001b[0m\n"
     ]
    },
    {
     "name": "stdout",
     "output_type": "stream",
     "text": [
      "\u001b[32m[I 2022-08-30 18:12:05,334]\u001b[0m Trial 24 pruned. \u001b[0m\n"
     ]
    },
    {
     "name": "stderr",
     "output_type": "stream",
     "text": [
      "c:\\Users\\Mohsen\\anaconda3\\envs\\CLP\\lib\\site-packages\\optuna\\progress_bar.py:47: ExperimentalWarning: Progress bar is experimental (supported from v1.2.0). The interface can change in the future.\n",
      "  self._init_valid()\n"
     ]
    },
    {
     "data": {
      "application/vnd.jupyter.widget-view+json": {
       "model_id": "bef3615ff9f1475d99806d474558fc4f",
       "version_major": 2,
       "version_minor": 0
      },
      "text/plain": [
       "  0%|          | 0/25 [00:00<?, ?it/s]"
      ]
     },
     "metadata": {},
     "output_type": "display_data"
    },
    {
     "name": "stdout",
     "output_type": "stream",
     "text": [
      "\u001b[32m[I 2022-08-30 18:12:41,641]\u001b[0m Trial 0 finished with value: 0.7 and parameters: {'learning_rate': 0.0058513183922042425, 'optimizer': 'SGD', 'n_layers': 3, 'n_units_l0': 4, 'n_units_l1': 4, 'n_units_l2': 5}. Best is trial 0 with value: 0.7.\u001b[0m\n",
      "\u001b[32m[I 2022-08-30 18:13:14,599]\u001b[0m Trial 1 finished with value: 0.3142857142857143 and parameters: {'learning_rate': 0.002665000675647381, 'optimizer': 'SGD', 'n_layers': 3, 'n_units_l0': 10, 'n_units_l1': 7, 'n_units_l2': 6}. Best is trial 0 with value: 0.7.\u001b[0m\n",
      "\u001b[32m[I 2022-08-30 18:13:54,184]\u001b[0m Trial 2 finished with value: 0.6714285714285714 and parameters: {'learning_rate': 0.00017262597353012905, 'optimizer': 'RMSprop', 'n_layers': 3, 'n_units_l0': 10, 'n_units_l1': 8, 'n_units_l2': 4}. Best is trial 0 with value: 0.7.\u001b[0m\n",
      "\u001b[32m[I 2022-08-30 18:14:51,705]\u001b[0m Trial 3 finished with value: 0.7571428571428571 and parameters: {'learning_rate': 3.5476447081194844e-05, 'optimizer': 'Adam', 'n_layers': 4, 'n_units_l0': 5, 'n_units_l1': 10, 'n_units_l2': 10, 'n_units_l3': 5}. Best is trial 3 with value: 0.7571428571428571.\u001b[0m\n",
      "\u001b[32m[I 2022-08-30 18:15:35,927]\u001b[0m Trial 4 finished with value: 0.7214285714285714 and parameters: {'learning_rate': 2.1278802500128543e-05, 'optimizer': 'SGD', 'n_layers': 5, 'n_units_l0': 10, 'n_units_l1': 8, 'n_units_l2': 5, 'n_units_l3': 9, 'n_units_l4': 7}. Best is trial 3 with value: 0.7571428571428571.\u001b[0m\n",
      "\u001b[32m[I 2022-08-30 18:15:36,144]\u001b[0m Trial 5 pruned. \u001b[0m\n",
      "\u001b[32m[I 2022-08-30 18:16:19,999]\u001b[0m Trial 6 finished with value: 0.7714285714285715 and parameters: {'learning_rate': 0.022926114477773964, 'optimizer': 'RMSprop', 'n_layers': 2, 'n_units_l0': 10, 'n_units_l1': 6}. Best is trial 6 with value: 0.7714285714285715.\u001b[0m\n",
      "\u001b[32m[I 2022-08-30 18:16:20,549]\u001b[0m Trial 7 pruned. \u001b[0m\n",
      "\u001b[32m[I 2022-08-30 18:16:21,255]\u001b[0m Trial 8 pruned. \u001b[0m\n",
      "\u001b[32m[I 2022-08-30 18:16:21,608]\u001b[0m Trial 9 pruned. \u001b[0m\n",
      "\u001b[32m[I 2022-08-30 18:17:00,418]\u001b[0m Trial 10 finished with value: 0.85 and parameters: {'learning_rate': 0.05807465617570389, 'optimizer': 'RMSprop', 'n_layers': 2, 'n_units_l0': 8, 'n_units_l1': 6}. Best is trial 10 with value: 0.85.\u001b[0m\n",
      "\u001b[32m[I 2022-08-30 18:17:00,757]\u001b[0m Trial 11 pruned. \u001b[0m\n",
      "\u001b[32m[I 2022-08-30 18:17:36,069]\u001b[0m Trial 12 finished with value: 0.7357142857142858 and parameters: {'learning_rate': 0.08257886160413745, 'optimizer': 'RMSprop', 'n_layers': 2, 'n_units_l0': 8, 'n_units_l1': 6}. Best is trial 10 with value: 0.85.\u001b[0m\n",
      "\u001b[32m[I 2022-08-30 18:18:09,927]\u001b[0m Trial 13 finished with value: 0.8 and parameters: {'learning_rate': 0.020963446610334044, 'optimizer': 'RMSprop', 'n_layers': 2, 'n_units_l0': 8, 'n_units_l1': 6}. Best is trial 10 with value: 0.85.\u001b[0m\n",
      "\u001b[32m[I 2022-08-30 18:18:10,247]\u001b[0m Trial 14 pruned. \u001b[0m\n",
      "\u001b[32m[I 2022-08-30 18:18:10,747]\u001b[0m Trial 15 pruned. \u001b[0m\n",
      "\u001b[32m[I 2022-08-30 18:18:45,332]\u001b[0m Trial 16 finished with value: 0.7571428571428571 and parameters: {'learning_rate': 0.008402419723308211, 'optimizer': 'RMSprop', 'n_layers': 2, 'n_units_l0': 7, 'n_units_l1': 10}. Best is trial 10 with value: 0.85.\u001b[0m\n",
      "\u001b[32m[I 2022-08-30 18:18:45,940]\u001b[0m Trial 17 pruned. \u001b[0m\n",
      "\u001b[32m[I 2022-08-30 18:18:46,273]\u001b[0m Trial 18 pruned. \u001b[0m\n",
      "\u001b[32m[I 2022-08-30 18:18:46,703]\u001b[0m Trial 19 pruned. \u001b[0m\n",
      "\u001b[32m[I 2022-08-30 18:18:47,200]\u001b[0m Trial 20 pruned. \u001b[0m\n",
      "\u001b[32m[I 2022-08-30 18:18:47,518]\u001b[0m Trial 21 pruned. \u001b[0m\n",
      "\u001b[32m[I 2022-08-30 18:19:21,717]\u001b[0m Trial 22 finished with value: 0.7642857142857142 and parameters: {'learning_rate': 0.04799246766554158, 'optimizer': 'RMSprop', 'n_layers': 2, 'n_units_l0': 9, 'n_units_l1': 5}. Best is trial 10 with value: 0.85.\u001b[0m\n",
      "\u001b[32m[I 2022-08-30 18:19:22,012]\u001b[0m Trial 23 pruned. \u001b[0m\n"
     ]
    },
    {
     "name": "stderr",
     "output_type": "stream",
     "text": [
      "\u001b[32m[I 2022-08-30 18:19:22,357]\u001b[0m A new study created in memory with name: no-name-c35b30e7-3de0-42d8-ac1d-0683cee54265\u001b[0m\n"
     ]
    },
    {
     "name": "stdout",
     "output_type": "stream",
     "text": [
      "\u001b[32m[I 2022-08-30 18:19:22,353]\u001b[0m Trial 24 pruned. \u001b[0m\n"
     ]
    },
    {
     "name": "stderr",
     "output_type": "stream",
     "text": [
      "c:\\Users\\Mohsen\\anaconda3\\envs\\CLP\\lib\\site-packages\\optuna\\progress_bar.py:47: ExperimentalWarning: Progress bar is experimental (supported from v1.2.0). The interface can change in the future.\n",
      "  self._init_valid()\n"
     ]
    },
    {
     "data": {
      "application/vnd.jupyter.widget-view+json": {
       "model_id": "218cd70ad2d54cd3a1c004b171227d4f",
       "version_major": 2,
       "version_minor": 0
      },
      "text/plain": [
       "  0%|          | 0/25 [00:00<?, ?it/s]"
      ]
     },
     "metadata": {},
     "output_type": "display_data"
    },
    {
     "name": "stdout",
     "output_type": "stream",
     "text": [
      "\u001b[32m[I 2022-08-30 18:19:46,788]\u001b[0m Trial 0 finished with value: 0.8071428571428572 and parameters: {'learning_rate': 0.02138237974686939, 'optimizer': 'Adam', 'n_layers': 3, 'n_units_l0': 5, 'n_units_l1': 4, 'n_units_l2': 9}. Best is trial 0 with value: 0.8071428571428572.\u001b[0m\n",
      "\u001b[32m[I 2022-08-30 18:20:03,866]\u001b[0m Trial 1 finished with value: 0.2785714285714286 and parameters: {'learning_rate': 0.002419003833827725, 'optimizer': 'SGD', 'n_layers': 3, 'n_units_l0': 5, 'n_units_l1': 7, 'n_units_l2': 5}. Best is trial 0 with value: 0.8071428571428572.\u001b[0m\n",
      "\u001b[32m[I 2022-08-30 18:20:21,948]\u001b[0m Trial 2 finished with value: 0.2571428571428571 and parameters: {'learning_rate': 2.3205411791393653e-05, 'optimizer': 'SGD', 'n_layers': 4, 'n_units_l0': 10, 'n_units_l1': 4, 'n_units_l2': 8, 'n_units_l3': 9}. Best is trial 0 with value: 0.8071428571428572.\u001b[0m\n",
      "\u001b[32m[I 2022-08-30 18:20:40,243]\u001b[0m Trial 3 finished with value: 0.7571428571428571 and parameters: {'learning_rate': 0.013612627858235925, 'optimizer': 'SGD', 'n_layers': 4, 'n_units_l0': 6, 'n_units_l1': 9, 'n_units_l2': 8, 'n_units_l3': 10}. Best is trial 0 with value: 0.8071428571428572.\u001b[0m\n",
      "\u001b[32m[I 2022-08-30 18:21:04,772]\u001b[0m Trial 4 finished with value: 0.75 and parameters: {'learning_rate': 7.728186316030592e-05, 'optimizer': 'RMSprop', 'n_layers': 4, 'n_units_l0': 5, 'n_units_l1': 6, 'n_units_l2': 5, 'n_units_l3': 5}. Best is trial 0 with value: 0.8071428571428572.\u001b[0m\n",
      "\u001b[32m[I 2022-08-30 18:21:31,673]\u001b[0m Trial 5 finished with value: 0.7714285714285715 and parameters: {'learning_rate': 0.029554453841050887, 'optimizer': 'RMSprop', 'n_layers': 5, 'n_units_l0': 8, 'n_units_l1': 6, 'n_units_l2': 10, 'n_units_l3': 6, 'n_units_l4': 10}. Best is trial 0 with value: 0.8071428571428572.\u001b[0m\n",
      "\u001b[32m[I 2022-08-30 18:21:52,795]\u001b[0m Trial 6 finished with value: 0.7928571428571428 and parameters: {'learning_rate': 0.03155818690373032, 'optimizer': 'Adam', 'n_layers': 2, 'n_units_l0': 5, 'n_units_l1': 8}. Best is trial 0 with value: 0.8071428571428572.\u001b[0m\n",
      "\u001b[32m[I 2022-08-30 18:22:17,868]\u001b[0m Trial 7 finished with value: 0.7714285714285715 and parameters: {'learning_rate': 0.0032862782976390593, 'optimizer': 'RMSprop', 'n_layers': 4, 'n_units_l0': 7, 'n_units_l1': 10, 'n_units_l2': 10, 'n_units_l3': 7}. Best is trial 0 with value: 0.8071428571428572.\u001b[0m\n",
      "\u001b[32m[I 2022-08-30 18:22:51,620]\u001b[0m Trial 8 finished with value: 0.7928571428571428 and parameters: {'learning_rate': 0.0017341866650312573, 'optimizer': 'Adam', 'n_layers': 5, 'n_units_l0': 4, 'n_units_l1': 8, 'n_units_l2': 7, 'n_units_l3': 8, 'n_units_l4': 4}. Best is trial 0 with value: 0.8071428571428572.\u001b[0m\n",
      "\u001b[32m[I 2022-08-30 18:22:51,827]\u001b[0m Trial 9 pruned. \u001b[0m\n",
      "\u001b[32m[I 2022-08-30 18:22:52,860]\u001b[0m Trial 10 pruned. \u001b[0m\n",
      "\u001b[32m[I 2022-08-30 18:22:53,945]\u001b[0m Trial 11 pruned. \u001b[0m\n",
      "\u001b[32m[I 2022-08-30 18:22:54,188]\u001b[0m Trial 12 pruned. \u001b[0m\n",
      "\u001b[32m[I 2022-08-30 18:23:14,338]\u001b[0m Trial 13 finished with value: 0.7785714285714286 and parameters: {'learning_rate': 0.07328199574904412, 'optimizer': 'Adam', 'n_layers': 2, 'n_units_l0': 6, 'n_units_l1': 5}. Best is trial 0 with value: 0.8071428571428572.\u001b[0m\n",
      "\u001b[32m[I 2022-08-30 18:23:14,565]\u001b[0m Trial 14 pruned. \u001b[0m\n",
      "\u001b[32m[I 2022-08-30 18:23:14,937]\u001b[0m Trial 15 pruned. \u001b[0m\n",
      "\u001b[32m[I 2022-08-30 18:23:16,249]\u001b[0m Trial 16 pruned. \u001b[0m\n",
      "\u001b[32m[I 2022-08-30 18:23:37,172]\u001b[0m Trial 17 finished with value: 0.8 and parameters: {'learning_rate': 0.007545895472433852, 'optimizer': 'Adam', 'n_layers': 2, 'n_units_l0': 5, 'n_units_l1': 9}. Best is trial 0 with value: 0.8071428571428572.\u001b[0m\n",
      "\u001b[32m[I 2022-08-30 18:24:01,496]\u001b[0m Trial 18 finished with value: 0.8 and parameters: {'learning_rate': 0.0060994902504277965, 'optimizer': 'Adam', 'n_layers': 3, 'n_units_l0': 8, 'n_units_l1': 9, 'n_units_l2': 9}. Best is trial 0 with value: 0.8071428571428572.\u001b[0m\n",
      "\u001b[32m[I 2022-08-30 18:24:01,639]\u001b[0m Trial 19 pruned. \u001b[0m\n",
      "\u001b[32m[I 2022-08-30 18:24:01,900]\u001b[0m Trial 20 pruned. \u001b[0m\n",
      "\u001b[32m[I 2022-08-30 18:24:02,145]\u001b[0m Trial 21 pruned. \u001b[0m\n",
      "\u001b[32m[I 2022-08-30 18:24:02,615]\u001b[0m Trial 22 pruned. \u001b[0m\n",
      "\u001b[32m[I 2022-08-30 18:24:27,068]\u001b[0m Trial 23 finished with value: 0.8285714285714286 and parameters: {'learning_rate': 0.017091819962798436, 'optimizer': 'Adam', 'n_layers': 3, 'n_units_l0': 7, 'n_units_l1': 9, 'n_units_l2': 10}. Best is trial 23 with value: 0.8285714285714286.\u001b[0m\n"
     ]
    },
    {
     "name": "stderr",
     "output_type": "stream",
     "text": [
      "\u001b[32m[I 2022-08-30 18:24:27,280]\u001b[0m A new study created in memory with name: no-name-127f4a96-ffd4-4104-978f-7dbf99a2b30f\u001b[0m\n"
     ]
    },
    {
     "name": "stdout",
     "output_type": "stream",
     "text": [
      "\u001b[32m[I 2022-08-30 18:24:27,280]\u001b[0m Trial 24 pruned. \u001b[0m\n"
     ]
    },
    {
     "name": "stderr",
     "output_type": "stream",
     "text": [
      "c:\\Users\\Mohsen\\anaconda3\\envs\\CLP\\lib\\site-packages\\optuna\\progress_bar.py:47: ExperimentalWarning: Progress bar is experimental (supported from v1.2.0). The interface can change in the future.\n",
      "  self._init_valid()\n"
     ]
    },
    {
     "data": {
      "application/vnd.jupyter.widget-view+json": {
       "model_id": "17ee123e8bb944f5bc14fee7f95db42f",
       "version_major": 2,
       "version_minor": 0
      },
      "text/plain": [
       "  0%|          | 0/25 [00:00<?, ?it/s]"
      ]
     },
     "metadata": {},
     "output_type": "display_data"
    },
    {
     "name": "stdout",
     "output_type": "stream",
     "text": [
      "\u001b[32m[I 2022-08-30 18:24:40,123]\u001b[0m Trial 0 finished with value: 0.7928571428571428 and parameters: {'learning_rate': 0.04547351387896288, 'optimizer': 'RMSprop', 'n_layers': 4, 'n_units_l0': 4, 'n_units_l1': 6, 'n_units_l2': 8, 'n_units_l3': 10}. Best is trial 0 with value: 0.7928571428571428.\u001b[0m\n",
      "\u001b[32m[I 2022-08-30 18:24:59,912]\u001b[0m Trial 1 finished with value: 0.7428571428571429 and parameters: {'learning_rate': 0.0019951118825647903, 'optimizer': 'Adam', 'n_layers': 5, 'n_units_l0': 5, 'n_units_l1': 5, 'n_units_l2': 5, 'n_units_l3': 9, 'n_units_l4': 8}. Best is trial 0 with value: 0.7928571428571428.\u001b[0m\n",
      "\u001b[32m[I 2022-08-30 18:25:14,451]\u001b[0m Trial 2 finished with value: 0.7357142857142858 and parameters: {'learning_rate': 0.028158117617847287, 'optimizer': 'Adam', 'n_layers': 3, 'n_units_l0': 9, 'n_units_l1': 6, 'n_units_l2': 8}. Best is trial 0 with value: 0.7928571428571428.\u001b[0m\n",
      "\u001b[32m[I 2022-08-30 18:25:24,006]\u001b[0m Trial 3 finished with value: 0.6928571428571428 and parameters: {'learning_rate': 0.007294705964932644, 'optimizer': 'SGD', 'n_layers': 4, 'n_units_l0': 5, 'n_units_l1': 5, 'n_units_l2': 9, 'n_units_l3': 5}. Best is trial 0 with value: 0.7928571428571428.\u001b[0m\n",
      "\u001b[32m[I 2022-08-30 18:25:37,355]\u001b[0m Trial 4 finished with value: 0.7071428571428572 and parameters: {'learning_rate': 0.07154147029878258, 'optimizer': 'Adam', 'n_layers': 3, 'n_units_l0': 7, 'n_units_l1': 7, 'n_units_l2': 4}. Best is trial 0 with value: 0.7928571428571428.\u001b[0m\n",
      "\u001b[32m[I 2022-08-30 18:25:37,491]\u001b[0m Trial 5 pruned. \u001b[0m\n",
      "\u001b[32m[I 2022-08-30 18:25:39,190]\u001b[0m Trial 6 pruned. \u001b[0m\n",
      "\u001b[32m[I 2022-08-30 18:25:39,267]\u001b[0m Trial 7 pruned. \u001b[0m\n",
      "\u001b[32m[I 2022-08-30 18:25:39,337]\u001b[0m Trial 8 pruned. \u001b[0m\n",
      "\u001b[32m[I 2022-08-30 18:25:56,740]\u001b[0m Trial 9 finished with value: 0.7857142857142857 and parameters: {'learning_rate': 2.8878754771964953e-05, 'optimizer': 'Adam', 'n_layers': 5, 'n_units_l0': 7, 'n_units_l1': 5, 'n_units_l2': 4, 'n_units_l3': 9, 'n_units_l4': 8}. Best is trial 0 with value: 0.7928571428571428.\u001b[0m\n",
      "\u001b[32m[I 2022-08-30 18:25:56,868]\u001b[0m Trial 10 pruned. \u001b[0m\n",
      "\u001b[32m[I 2022-08-30 18:25:56,999]\u001b[0m Trial 11 pruned. \u001b[0m\n",
      "\u001b[32m[I 2022-08-30 18:25:57,184]\u001b[0m Trial 12 pruned. \u001b[0m\n",
      "\u001b[32m[I 2022-08-30 18:25:57,319]\u001b[0m Trial 13 pruned. \u001b[0m\n",
      "\u001b[32m[I 2022-08-30 18:25:57,438]\u001b[0m Trial 14 pruned. \u001b[0m\n",
      "\u001b[32m[I 2022-08-30 18:25:57,602]\u001b[0m Trial 15 pruned. \u001b[0m\n",
      "\u001b[32m[I 2022-08-30 18:26:09,301]\u001b[0m Trial 16 finished with value: 0.8142857142857143 and parameters: {'learning_rate': 0.0007274370211639472, 'optimizer': 'RMSprop', 'n_layers': 4, 'n_units_l0': 6, 'n_units_l1': 5, 'n_units_l2': 6, 'n_units_l3': 10}. Best is trial 16 with value: 0.8142857142857143.\u001b[0m\n",
      "\u001b[32m[I 2022-08-30 18:26:22,181]\u001b[0m Trial 17 finished with value: 0.7928571428571428 and parameters: {'learning_rate': 0.0020087676685821006, 'optimizer': 'RMSprop', 'n_layers': 4, 'n_units_l0': 4, 'n_units_l1': 6, 'n_units_l2': 6, 'n_units_l3': 4}. Best is trial 16 with value: 0.8142857142857143.\u001b[0m\n",
      "\u001b[32m[I 2022-08-30 18:26:22,338]\u001b[0m Trial 18 pruned. \u001b[0m\n",
      "\u001b[32m[I 2022-08-30 18:26:22,977]\u001b[0m Trial 19 pruned. \u001b[0m\n",
      "\u001b[32m[I 2022-08-30 18:26:23,144]\u001b[0m Trial 20 pruned. \u001b[0m\n",
      "\u001b[32m[I 2022-08-30 18:26:37,259]\u001b[0m Trial 21 finished with value: 0.8071428571428572 and parameters: {'learning_rate': 0.003097469604474916, 'optimizer': 'RMSprop', 'n_layers': 4, 'n_units_l0': 4, 'n_units_l1': 6, 'n_units_l2': 6, 'n_units_l3': 4}. Best is trial 16 with value: 0.8142857142857143.\u001b[0m\n",
      "\u001b[32m[I 2022-08-30 18:26:37,513]\u001b[0m Trial 22 pruned. \u001b[0m\n",
      "\u001b[32m[I 2022-08-30 18:26:37,674]\u001b[0m Trial 23 pruned. \u001b[0m\n"
     ]
    },
    {
     "name": "stderr",
     "output_type": "stream",
     "text": [
      "\u001b[32m[I 2022-08-30 18:26:37,840]\u001b[0m A new study created in memory with name: no-name-6844d3d7-99bb-449c-9694-7b5dcb364631\u001b[0m\n"
     ]
    },
    {
     "name": "stdout",
     "output_type": "stream",
     "text": [
      "\u001b[32m[I 2022-08-30 18:26:37,837]\u001b[0m Trial 24 pruned. \u001b[0m\n"
     ]
    },
    {
     "name": "stderr",
     "output_type": "stream",
     "text": [
      "c:\\Users\\Mohsen\\anaconda3\\envs\\CLP\\lib\\site-packages\\optuna\\progress_bar.py:47: ExperimentalWarning: Progress bar is experimental (supported from v1.2.0). The interface can change in the future.\n",
      "  self._init_valid()\n"
     ]
    },
    {
     "data": {
      "application/vnd.jupyter.widget-view+json": {
       "model_id": "7c60812540cb41b488215f5b51a8668b",
       "version_major": 2,
       "version_minor": 0
      },
      "text/plain": [
       "  0%|          | 0/25 [00:00<?, ?it/s]"
      ]
     },
     "metadata": {},
     "output_type": "display_data"
    },
    {
     "name": "stdout",
     "output_type": "stream",
     "text": [
      "\u001b[32m[I 2022-08-30 18:26:46,650]\u001b[0m Trial 0 finished with value: 0.25 and parameters: {'learning_rate': 3.0168446047476657e-05, 'optimizer': 'Adam', 'n_layers': 4, 'n_units_l0': 4, 'n_units_l1': 10, 'n_units_l2': 10, 'n_units_l3': 5}. Best is trial 0 with value: 0.25.\u001b[0m\n",
      "\u001b[32m[I 2022-08-30 18:26:52,525]\u001b[0m Trial 1 finished with value: 0.8 and parameters: {'learning_rate': 0.0011130787350300485, 'optimizer': 'RMSprop', 'n_layers': 2, 'n_units_l0': 4, 'n_units_l1': 9}. Best is trial 1 with value: 0.8.\u001b[0m\n",
      "\u001b[32m[I 2022-08-30 18:26:56,858]\u001b[0m Trial 2 finished with value: 0.2785714285714286 and parameters: {'learning_rate': 1.0350032234276825e-05, 'optimizer': 'SGD', 'n_layers': 2, 'n_units_l0': 4, 'n_units_l1': 9}. Best is trial 1 with value: 0.8.\u001b[0m\n",
      "\u001b[32m[I 2022-08-30 18:27:06,443]\u001b[0m Trial 3 finished with value: 0.7642857142857142 and parameters: {'learning_rate': 0.0013227680993833394, 'optimizer': 'Adam', 'n_layers': 5, 'n_units_l0': 8, 'n_units_l1': 6, 'n_units_l2': 5, 'n_units_l3': 4, 'n_units_l4': 8}. Best is trial 1 with value: 0.8.\u001b[0m\n",
      "\u001b[32m[I 2022-08-30 18:27:14,886]\u001b[0m Trial 4 finished with value: 0.8285714285714286 and parameters: {'learning_rate': 0.00013184442048380673, 'optimizer': 'RMSprop', 'n_layers': 5, 'n_units_l0': 8, 'n_units_l1': 9, 'n_units_l2': 5, 'n_units_l3': 5, 'n_units_l4': 6}. Best is trial 4 with value: 0.8285714285714286.\u001b[0m\n",
      "\u001b[32m[I 2022-08-30 18:27:14,935]\u001b[0m Trial 5 pruned. \u001b[0m\n",
      "\u001b[32m[I 2022-08-30 18:27:14,995]\u001b[0m Trial 6 pruned. \u001b[0m\n",
      "\u001b[32m[I 2022-08-30 18:27:20,843]\u001b[0m Trial 7 finished with value: 0.7928571428571428 and parameters: {'learning_rate': 0.0024993694030089695, 'optimizer': 'RMSprop', 'n_layers': 3, 'n_units_l0': 5, 'n_units_l1': 5, 'n_units_l2': 7}. Best is trial 4 with value: 0.8285714285714286.\u001b[0m\n",
      "\u001b[32m[I 2022-08-30 18:27:21,493]\u001b[0m Trial 8 pruned. \u001b[0m\n",
      "\u001b[32m[I 2022-08-30 18:27:23,043]\u001b[0m Trial 9 pruned. \u001b[0m\n",
      "\u001b[32m[I 2022-08-30 18:27:25,246]\u001b[0m Trial 10 pruned. \u001b[0m\n",
      "\u001b[32m[I 2022-08-30 18:27:25,361]\u001b[0m Trial 11 pruned. \u001b[0m\n",
      "\u001b[32m[I 2022-08-30 18:27:27,548]\u001b[0m Trial 12 pruned. \u001b[0m\n",
      "\u001b[32m[I 2022-08-30 18:27:27,619]\u001b[0m Trial 13 pruned. \u001b[0m\n",
      "\u001b[32m[I 2022-08-30 18:27:34,044]\u001b[0m Trial 14 finished with value: 0.7714285714285715 and parameters: {'learning_rate': 0.004643089059495145, 'optimizer': 'RMSprop', 'n_layers': 3, 'n_units_l0': 8, 'n_units_l1': 8, 'n_units_l2': 8}. Best is trial 4 with value: 0.8285714285714286.\u001b[0m\n",
      "\u001b[32m[I 2022-08-30 18:27:34,134]\u001b[0m Trial 15 pruned. \u001b[0m\n",
      "\u001b[32m[I 2022-08-30 18:27:42,075]\u001b[0m Trial 16 finished with value: 0.8214285714285714 and parameters: {'learning_rate': 0.01036019104736156, 'optimizer': 'RMSprop', 'n_layers': 5, 'n_units_l0': 10, 'n_units_l1': 9, 'n_units_l2': 5, 'n_units_l3': 6, 'n_units_l4': 5}. Best is trial 4 with value: 0.8285714285714286.\u001b[0m\n",
      "\u001b[32m[I 2022-08-30 18:27:51,102]\u001b[0m Trial 17 finished with value: 0.8214285714285714 and parameters: {'learning_rate': 0.022375264010467695, 'optimizer': 'RMSprop', 'n_layers': 5, 'n_units_l0': 10, 'n_units_l1': 6, 'n_units_l2': 5, 'n_units_l3': 6, 'n_units_l4': 5}. Best is trial 4 with value: 0.8285714285714286.\u001b[0m\n",
      "\u001b[32m[I 2022-08-30 18:27:51,263]\u001b[0m Trial 18 pruned. \u001b[0m\n",
      "\u001b[32m[I 2022-08-30 18:27:51,689]\u001b[0m Trial 19 pruned. \u001b[0m\n",
      "\u001b[32m[I 2022-08-30 18:27:51,772]\u001b[0m Trial 20 pruned. \u001b[0m\n",
      "\u001b[32m[I 2022-08-30 18:27:51,868]\u001b[0m Trial 21 pruned. \u001b[0m\n",
      "\u001b[32m[I 2022-08-30 18:27:52,311]\u001b[0m Trial 22 pruned. \u001b[0m\n",
      "\u001b[32m[I 2022-08-30 18:27:52,413]\u001b[0m Trial 23 pruned. \u001b[0m\n"
     ]
    },
    {
     "name": "stderr",
     "output_type": "stream",
     "text": [
      "\u001b[32m[I 2022-08-30 18:27:59,348]\u001b[0m A new study created in memory with name: no-name-c229072c-00a4-4bdf-a2eb-09548fe3b41d\u001b[0m\n"
     ]
    },
    {
     "name": "stdout",
     "output_type": "stream",
     "text": [
      "\u001b[32m[I 2022-08-30 18:27:59,344]\u001b[0m Trial 24 finished with value: 0.8642857142857143 and parameters: {'learning_rate': 0.003091406345592808, 'optimizer': 'RMSprop', 'n_layers': 4, 'n_units_l0': 9, 'n_units_l1': 7, 'n_units_l2': 4, 'n_units_l3': 6}. Best is trial 24 with value: 0.8642857142857143.\u001b[0m\n"
     ]
    },
    {
     "name": "stderr",
     "output_type": "stream",
     "text": [
      "c:\\Users\\Mohsen\\anaconda3\\envs\\CLP\\lib\\site-packages\\optuna\\progress_bar.py:47: ExperimentalWarning: Progress bar is experimental (supported from v1.2.0). The interface can change in the future.\n",
      "  self._init_valid()\n"
     ]
    },
    {
     "data": {
      "application/vnd.jupyter.widget-view+json": {
       "model_id": "aaaef0e2fe684bdab0a27d1977c54e98",
       "version_major": 2,
       "version_minor": 0
      },
      "text/plain": [
       "  0%|          | 0/25 [00:00<?, ?it/s]"
      ]
     },
     "metadata": {},
     "output_type": "display_data"
    },
    {
     "name": "stdout",
     "output_type": "stream",
     "text": [
      "\u001b[32m[I 2022-08-30 18:30:13,561]\u001b[0m Trial 0 finished with value: 0.8285714285714286 and parameters: {'learning_rate': 0.0001705774970586457, 'optimizer': 'RMSprop', 'n_layers': 5, 'n_units_l0': 5, 'n_units_l1': 9, 'n_units_l2': 10, 'n_units_l3': 9, 'n_units_l4': 10}. Best is trial 0 with value: 0.8285714285714286.\u001b[0m\n",
      "\u001b[32m[I 2022-08-30 18:31:43,256]\u001b[0m Trial 1 finished with value: 0.7571428571428571 and parameters: {'learning_rate': 0.004304518684219867, 'optimizer': 'SGD', 'n_layers': 4, 'n_units_l0': 5, 'n_units_l1': 6, 'n_units_l2': 7, 'n_units_l3': 7}. Best is trial 0 with value: 0.8285714285714286.\u001b[0m\n",
      "\u001b[32m[I 2022-08-30 18:33:07,876]\u001b[0m Trial 2 finished with value: 0.7785714285714286 and parameters: {'learning_rate': 0.03962422705513922, 'optimizer': 'SGD', 'n_layers': 4, 'n_units_l0': 7, 'n_units_l1': 6, 'n_units_l2': 5, 'n_units_l3': 9}. Best is trial 0 with value: 0.8285714285714286.\u001b[0m\n",
      "\u001b[32m[I 2022-08-30 18:35:25,793]\u001b[0m Trial 3 finished with value: 0.7214285714285714 and parameters: {'learning_rate': 0.007976917984196811, 'optimizer': 'Adam', 'n_layers': 4, 'n_units_l0': 9, 'n_units_l1': 9, 'n_units_l2': 10, 'n_units_l3': 10}. Best is trial 0 with value: 0.8285714285714286.\u001b[0m\n",
      "\u001b[32m[I 2022-08-30 18:37:18,080]\u001b[0m Trial 4 finished with value: 0.7857142857142857 and parameters: {'learning_rate': 0.0002011141995411184, 'optimizer': 'RMSprop', 'n_layers': 4, 'n_units_l0': 8, 'n_units_l1': 9, 'n_units_l2': 5, 'n_units_l3': 9}. Best is trial 0 with value: 0.8285714285714286.\u001b[0m\n",
      "\u001b[32m[I 2022-08-30 18:37:18,481]\u001b[0m Trial 5 pruned. \u001b[0m\n",
      "\u001b[32m[I 2022-08-30 18:39:20,402]\u001b[0m Trial 6 finished with value: 0.7785714285714286 and parameters: {'learning_rate': 0.012238331061574133, 'optimizer': 'Adam', 'n_layers': 3, 'n_units_l0': 10, 'n_units_l1': 9, 'n_units_l2': 7}. Best is trial 0 with value: 0.8285714285714286.\u001b[0m\n",
      "\u001b[32m[I 2022-08-30 18:39:21,307]\u001b[0m Trial 7 pruned. \u001b[0m\n",
      "\u001b[32m[I 2022-08-30 18:39:22,029]\u001b[0m Trial 8 pruned. \u001b[0m\n",
      "\u001b[32m[I 2022-08-30 18:39:22,630]\u001b[0m Trial 9 pruned. \u001b[0m\n",
      "\u001b[32m[I 2022-08-30 18:39:23,164]\u001b[0m Trial 10 pruned. \u001b[0m\n",
      "\u001b[32m[I 2022-08-30 18:39:23,793]\u001b[0m Trial 11 pruned. \u001b[0m\n",
      "\u001b[32m[I 2022-08-30 18:39:24,655]\u001b[0m Trial 12 pruned. \u001b[0m\n",
      "\u001b[32m[I 2022-08-30 18:39:25,421]\u001b[0m Trial 13 pruned. \u001b[0m\n",
      "\u001b[32m[I 2022-08-30 18:39:26,070]\u001b[0m Trial 14 pruned. \u001b[0m\n",
      "\u001b[32m[I 2022-08-30 18:41:35,695]\u001b[0m Trial 15 finished with value: 0.7857142857142857 and parameters: {'learning_rate': 2.9033239272833702e-05, 'optimizer': 'RMSprop', 'n_layers': 5, 'n_units_l0': 8, 'n_units_l1': 8, 'n_units_l2': 5, 'n_units_l3': 10, 'n_units_l4': 7}. Best is trial 0 with value: 0.8285714285714286.\u001b[0m\n",
      "\u001b[32m[I 2022-08-30 18:41:36,422]\u001b[0m Trial 16 pruned. \u001b[0m\n",
      "\u001b[32m[I 2022-08-30 18:41:37,517]\u001b[0m Trial 17 pruned. \u001b[0m\n",
      "\u001b[32m[I 2022-08-30 18:41:38,275]\u001b[0m Trial 18 pruned. \u001b[0m\n",
      "\u001b[32m[I 2022-08-30 18:41:38,910]\u001b[0m Trial 19 pruned. \u001b[0m\n",
      "\u001b[32m[I 2022-08-30 18:44:18,466]\u001b[0m Trial 20 finished with value: 0.8071428571428572 and parameters: {'learning_rate': 0.0010087539084239815, 'optimizer': 'Adam', 'n_layers': 5, 'n_units_l0': 7, 'n_units_l1': 10, 'n_units_l2': 6, 'n_units_l3': 7, 'n_units_l4': 5}. Best is trial 0 with value: 0.8285714285714286.\u001b[0m\n",
      "\u001b[32m[I 2022-08-30 18:44:19,778]\u001b[0m Trial 21 pruned. \u001b[0m\n",
      "\u001b[32m[I 2022-08-30 18:44:21,065]\u001b[0m Trial 22 pruned. \u001b[0m\n",
      "\u001b[32m[I 2022-08-30 18:44:22,137]\u001b[0m Trial 23 pruned. \u001b[0m\n"
     ]
    },
    {
     "name": "stderr",
     "output_type": "stream",
     "text": [
      "\u001b[32m[I 2022-08-30 18:44:23,451]\u001b[0m A new study created in memory with name: no-name-1def4b34-f166-4ee2-aa7e-b95ede0153f0\u001b[0m\n"
     ]
    },
    {
     "name": "stdout",
     "output_type": "stream",
     "text": [
      "\u001b[32m[I 2022-08-30 18:44:23,445]\u001b[0m Trial 24 pruned. \u001b[0m\n"
     ]
    },
    {
     "name": "stderr",
     "output_type": "stream",
     "text": [
      "c:\\Users\\Mohsen\\anaconda3\\envs\\CLP\\lib\\site-packages\\optuna\\progress_bar.py:47: ExperimentalWarning: Progress bar is experimental (supported from v1.2.0). The interface can change in the future.\n",
      "  self._init_valid()\n"
     ]
    },
    {
     "data": {
      "application/vnd.jupyter.widget-view+json": {
       "model_id": "0c6d40462a18499fbea9d6c7519ee290",
       "version_major": 2,
       "version_minor": 0
      },
      "text/plain": [
       "  0%|          | 0/25 [00:00<?, ?it/s]"
      ]
     },
     "metadata": {},
     "output_type": "display_data"
    },
    {
     "name": "stdout",
     "output_type": "stream",
     "text": [
      "\u001b[32m[I 2022-08-30 18:45:45,291]\u001b[0m Trial 0 finished with value: 0.8071428571428572 and parameters: {'learning_rate': 0.007219140593161497, 'optimizer': 'Adam', 'n_layers': 5, 'n_units_l0': 10, 'n_units_l1': 9, 'n_units_l2': 9, 'n_units_l3': 5, 'n_units_l4': 10}. Best is trial 0 with value: 0.8071428571428572.\u001b[0m\n",
      "\u001b[32m[I 2022-08-30 18:47:10,206]\u001b[0m Trial 1 finished with value: 0.7214285714285714 and parameters: {'learning_rate': 0.0046670590904754495, 'optimizer': 'Adam', 'n_layers': 5, 'n_units_l0': 9, 'n_units_l1': 9, 'n_units_l2': 6, 'n_units_l3': 10, 'n_units_l4': 6}. Best is trial 0 with value: 0.8071428571428572.\u001b[0m\n",
      "\u001b[32m[I 2022-08-30 18:48:34,329]\u001b[0m Trial 2 finished with value: 0.75 and parameters: {'learning_rate': 1.1429353106329976e-05, 'optimizer': 'Adam', 'n_layers': 4, 'n_units_l0': 6, 'n_units_l1': 5, 'n_units_l2': 9, 'n_units_l3': 6}. Best is trial 0 with value: 0.8071428571428572.\u001b[0m\n",
      "\u001b[32m[I 2022-08-30 18:49:28,039]\u001b[0m Trial 3 finished with value: 0.7714285714285715 and parameters: {'learning_rate': 6.823664380041402e-05, 'optimizer': 'SGD', 'n_layers': 5, 'n_units_l0': 4, 'n_units_l1': 7, 'n_units_l2': 7, 'n_units_l3': 8, 'n_units_l4': 9}. Best is trial 0 with value: 0.8071428571428572.\u001b[0m\n",
      "\u001b[32m[I 2022-08-30 18:50:12,534]\u001b[0m Trial 4 finished with value: 0.7142857142857143 and parameters: {'learning_rate': 0.00010630135217934683, 'optimizer': 'RMSprop', 'n_layers': 2, 'n_units_l0': 7, 'n_units_l1': 4}. Best is trial 0 with value: 0.8071428571428572.\u001b[0m\n",
      "\u001b[32m[I 2022-08-30 18:50:15,840]\u001b[0m Trial 5 pruned. \u001b[0m\n",
      "\u001b[32m[I 2022-08-30 18:50:16,311]\u001b[0m Trial 6 pruned. \u001b[0m\n",
      "\u001b[32m[I 2022-08-30 18:50:56,321]\u001b[0m Trial 7 finished with value: 0.8 and parameters: {'learning_rate': 0.007390051588728298, 'optimizer': 'RMSprop', 'n_layers': 2, 'n_units_l0': 4, 'n_units_l1': 4}. Best is trial 0 with value: 0.8071428571428572.\u001b[0m\n",
      "\u001b[32m[I 2022-08-30 18:50:56,539]\u001b[0m Trial 8 pruned. \u001b[0m\n",
      "\u001b[32m[I 2022-08-30 18:50:56,894]\u001b[0m Trial 9 pruned. \u001b[0m\n",
      "\u001b[32m[I 2022-08-30 18:52:02,258]\u001b[0m Trial 10 finished with value: 0.7785714285714286 and parameters: {'learning_rate': 0.0561228321923637, 'optimizer': 'Adam', 'n_layers': 3, 'n_units_l0': 8, 'n_units_l1': 7, 'n_units_l2': 4}. Best is trial 0 with value: 0.8071428571428572.\u001b[0m\n",
      "\u001b[32m[I 2022-08-30 18:52:51,510]\u001b[0m Trial 11 finished with value: 0.7571428571428571 and parameters: {'learning_rate': 0.00926346926943271, 'optimizer': 'RMSprop', 'n_layers': 3, 'n_units_l0': 4, 'n_units_l1': 6, 'n_units_l2': 10}. Best is trial 0 with value: 0.8071428571428572.\u001b[0m\n",
      "\u001b[32m[I 2022-08-30 18:53:38,489]\u001b[0m Trial 12 finished with value: 0.8 and parameters: {'learning_rate': 0.009897067348880337, 'optimizer': 'RMSprop', 'n_layers': 3, 'n_units_l0': 5, 'n_units_l1': 8, 'n_units_l2': 8}. Best is trial 0 with value: 0.8071428571428572.\u001b[0m\n",
      "\u001b[32m[I 2022-08-30 18:54:17,292]\u001b[0m Trial 13 finished with value: 0.8214285714285714 and parameters: {'learning_rate': 0.021338640628327885, 'optimizer': 'RMSprop', 'n_layers': 2, 'n_units_l0': 6, 'n_units_l1': 6}. Best is trial 13 with value: 0.8214285714285714.\u001b[0m\n",
      "\u001b[32m[I 2022-08-30 18:54:17,698]\u001b[0m Trial 14 pruned. \u001b[0m\n",
      "\u001b[32m[I 2022-08-30 18:54:18,102]\u001b[0m Trial 15 pruned. \u001b[0m\n",
      "\u001b[32m[I 2022-08-30 18:54:18,386]\u001b[0m Trial 16 pruned. \u001b[0m\n",
      "\u001b[32m[I 2022-08-30 18:55:19,239]\u001b[0m Trial 17 finished with value: 0.7714285714285715 and parameters: {'learning_rate': 0.02192613082627155, 'optimizer': 'RMSprop', 'n_layers': 5, 'n_units_l0': 8, 'n_units_l1': 8, 'n_units_l2': 6, 'n_units_l3': 7, 'n_units_l4': 10}. Best is trial 13 with value: 0.8214285714285714.\u001b[0m\n",
      "\u001b[32m[I 2022-08-30 18:55:21,162]\u001b[0m Trial 18 pruned. \u001b[0m\n",
      "\u001b[32m[I 2022-08-30 18:55:21,476]\u001b[0m Trial 19 pruned. \u001b[0m\n",
      "\u001b[32m[I 2022-08-30 18:55:21,770]\u001b[0m Trial 20 pruned. \u001b[0m\n",
      "\u001b[32m[I 2022-08-30 18:55:23,350]\u001b[0m Trial 21 pruned. \u001b[0m\n",
      "\u001b[32m[I 2022-08-30 18:55:23,700]\u001b[0m Trial 22 pruned. \u001b[0m\n",
      "\u001b[32m[I 2022-08-30 18:55:23,997]\u001b[0m Trial 23 pruned. \u001b[0m\n"
     ]
    },
    {
     "name": "stderr",
     "output_type": "stream",
     "text": [
      "\u001b[32m[I 2022-08-30 18:55:24,348]\u001b[0m A new study created in memory with name: no-name-d4c7ab3a-95cd-4878-af0d-e1e51c2fef38\u001b[0m\n"
     ]
    },
    {
     "name": "stdout",
     "output_type": "stream",
     "text": [
      "\u001b[32m[I 2022-08-30 18:55:24,345]\u001b[0m Trial 24 pruned. \u001b[0m\n"
     ]
    },
    {
     "name": "stderr",
     "output_type": "stream",
     "text": [
      "c:\\Users\\Mohsen\\anaconda3\\envs\\CLP\\lib\\site-packages\\optuna\\progress_bar.py:47: ExperimentalWarning: Progress bar is experimental (supported from v1.2.0). The interface can change in the future.\n",
      "  self._init_valid()\n"
     ]
    },
    {
     "data": {
      "application/vnd.jupyter.widget-view+json": {
       "model_id": "e179b7945e20484c9c53394e6d1c7e77",
       "version_major": 2,
       "version_minor": 0
      },
      "text/plain": [
       "  0%|          | 0/25 [00:00<?, ?it/s]"
      ]
     },
     "metadata": {},
     "output_type": "display_data"
    },
    {
     "name": "stdout",
     "output_type": "stream",
     "text": [
      "\u001b[32m[I 2022-08-30 18:55:48,367]\u001b[0m Trial 0 finished with value: 0.7 and parameters: {'learning_rate': 0.001382399876896652, 'optimizer': 'SGD', 'n_layers': 5, 'n_units_l0': 8, 'n_units_l1': 7, 'n_units_l2': 10, 'n_units_l3': 10, 'n_units_l4': 10}. Best is trial 0 with value: 0.7.\u001b[0m\n",
      "\u001b[32m[I 2022-08-30 18:56:12,970]\u001b[0m Trial 1 finished with value: 0.7357142857142858 and parameters: {'learning_rate': 4.032288606276386e-05, 'optimizer': 'RMSprop', 'n_layers': 3, 'n_units_l0': 4, 'n_units_l1': 10, 'n_units_l2': 4}. Best is trial 1 with value: 0.7357142857142858.\u001b[0m\n",
      "\u001b[32m[I 2022-08-30 18:56:47,072]\u001b[0m Trial 2 finished with value: 0.8214285714285714 and parameters: {'learning_rate': 0.0014057388135954982, 'optimizer': 'Adam', 'n_layers': 4, 'n_units_l0': 9, 'n_units_l1': 9, 'n_units_l2': 4, 'n_units_l3': 8}. Best is trial 2 with value: 0.8214285714285714.\u001b[0m\n",
      "\u001b[32m[I 2022-08-30 18:57:25,269]\u001b[0m Trial 3 finished with value: 0.7428571428571429 and parameters: {'learning_rate': 5.0571031658121566e-05, 'optimizer': 'Adam', 'n_layers': 5, 'n_units_l0': 6, 'n_units_l1': 8, 'n_units_l2': 4, 'n_units_l3': 8, 'n_units_l4': 10}. Best is trial 2 with value: 0.8214285714285714.\u001b[0m\n",
      "\u001b[32m[I 2022-08-30 18:57:48,949]\u001b[0m Trial 4 finished with value: 0.7642857142857142 and parameters: {'learning_rate': 0.0008778782142250569, 'optimizer': 'Adam', 'n_layers': 2, 'n_units_l0': 8, 'n_units_l1': 4}. Best is trial 2 with value: 0.8214285714285714.\u001b[0m\n",
      "\u001b[32m[I 2022-08-30 18:57:49,080]\u001b[0m Trial 5 pruned. \u001b[0m\n",
      "\u001b[32m[I 2022-08-30 18:58:07,918]\u001b[0m Trial 6 finished with value: 0.7857142857142857 and parameters: {'learning_rate': 2.7750920158658592e-05, 'optimizer': 'SGD', 'n_layers': 3, 'n_units_l0': 8, 'n_units_l1': 5, 'n_units_l2': 7}. Best is trial 2 with value: 0.8214285714285714.\u001b[0m\n",
      "\u001b[32m[I 2022-08-30 18:58:08,152]\u001b[0m Trial 7 pruned. \u001b[0m\n",
      "\u001b[32m[I 2022-08-30 18:58:46,689]\u001b[0m Trial 8 finished with value: 0.7642857142857142 and parameters: {'learning_rate': 0.011871964367280816, 'optimizer': 'Adam', 'n_layers': 5, 'n_units_l0': 6, 'n_units_l1': 5, 'n_units_l2': 9, 'n_units_l3': 4, 'n_units_l4': 9}. Best is trial 2 with value: 0.8214285714285714.\u001b[0m\n",
      "\u001b[32m[I 2022-08-30 18:58:46,832]\u001b[0m Trial 9 pruned. \u001b[0m\n",
      "\u001b[32m[I 2022-08-30 18:58:47,092]\u001b[0m Trial 10 pruned. \u001b[0m\n",
      "\u001b[32m[I 2022-08-30 18:58:47,267]\u001b[0m Trial 11 pruned. \u001b[0m\n",
      "\u001b[32m[I 2022-08-30 18:58:47,430]\u001b[0m Trial 12 pruned. \u001b[0m\n",
      "\u001b[32m[I 2022-08-30 18:58:51,154]\u001b[0m Trial 13 pruned. \u001b[0m\n",
      "\u001b[32m[I 2022-08-30 18:58:51,373]\u001b[0m Trial 14 pruned. \u001b[0m\n",
      "\u001b[32m[I 2022-08-30 18:59:24,981]\u001b[0m Trial 15 finished with value: 0.7857142857142857 and parameters: {'learning_rate': 1.1740314766028305e-05, 'optimizer': 'Adam', 'n_layers': 4, 'n_units_l0': 7, 'n_units_l1': 8, 'n_units_l2': 5, 'n_units_l3': 8}. Best is trial 2 with value: 0.8214285714285714.\u001b[0m\n",
      "\u001b[32m[I 2022-08-30 18:59:25,113]\u001b[0m Trial 16 pruned. \u001b[0m\n",
      "\u001b[32m[I 2022-08-30 18:59:25,388]\u001b[0m Trial 17 pruned. \u001b[0m\n",
      "\u001b[32m[I 2022-08-30 18:59:25,657]\u001b[0m Trial 18 pruned. \u001b[0m\n",
      "\u001b[32m[I 2022-08-30 18:59:25,932]\u001b[0m Trial 19 pruned. \u001b[0m\n",
      "\u001b[32m[I 2022-08-30 18:59:26,083]\u001b[0m Trial 20 pruned. \u001b[0m\n",
      "\u001b[32m[I 2022-08-30 18:59:29,259]\u001b[0m Trial 21 pruned. \u001b[0m\n",
      "\u001b[32m[I 2022-08-30 18:59:31,771]\u001b[0m Trial 22 pruned. \u001b[0m\n",
      "\u001b[32m[I 2022-08-30 18:59:31,984]\u001b[0m Trial 23 pruned. \u001b[0m\n"
     ]
    },
    {
     "name": "stderr",
     "output_type": "stream",
     "text": [
      "\u001b[32m[I 2022-08-30 18:59:32,214]\u001b[0m A new study created in memory with name: no-name-9558d34f-5a66-4fc3-8c8e-77b24e689142\u001b[0m\n"
     ]
    },
    {
     "name": "stdout",
     "output_type": "stream",
     "text": [
      "\u001b[32m[I 2022-08-30 18:59:32,210]\u001b[0m Trial 24 pruned. \u001b[0m\n"
     ]
    },
    {
     "name": "stderr",
     "output_type": "stream",
     "text": [
      "c:\\Users\\Mohsen\\anaconda3\\envs\\CLP\\lib\\site-packages\\optuna\\progress_bar.py:47: ExperimentalWarning: Progress bar is experimental (supported from v1.2.0). The interface can change in the future.\n",
      "  self._init_valid()\n"
     ]
    },
    {
     "data": {
      "application/vnd.jupyter.widget-view+json": {
       "model_id": "1ba0124ac0c04681947685894ef7dbf1",
       "version_major": 2,
       "version_minor": 0
      },
      "text/plain": [
       "  0%|          | 0/25 [00:00<?, ?it/s]"
      ]
     },
     "metadata": {},
     "output_type": "display_data"
    },
    {
     "name": "stdout",
     "output_type": "stream",
     "text": [
      "\u001b[32m[I 2022-08-30 18:59:44,882]\u001b[0m Trial 0 finished with value: 0.7 and parameters: {'learning_rate': 1.3003038462857854e-05, 'optimizer': 'SGD', 'n_layers': 5, 'n_units_l0': 10, 'n_units_l1': 5, 'n_units_l2': 4, 'n_units_l3': 5, 'n_units_l4': 8}. Best is trial 0 with value: 0.7.\u001b[0m\n",
      "\u001b[32m[I 2022-08-30 18:59:59,851]\u001b[0m Trial 1 finished with value: 0.8071428571428572 and parameters: {'learning_rate': 0.01177751244994655, 'optimizer': 'RMSprop', 'n_layers': 3, 'n_units_l0': 7, 'n_units_l1': 6, 'n_units_l2': 8}. Best is trial 1 with value: 0.8071428571428572.\u001b[0m\n",
      "\u001b[32m[I 2022-08-30 19:00:10,782]\u001b[0m Trial 2 finished with value: 0.7428571428571429 and parameters: {'learning_rate': 2.0002912407273327e-05, 'optimizer': 'RMSprop', 'n_layers': 2, 'n_units_l0': 9, 'n_units_l1': 9}. Best is trial 1 with value: 0.8071428571428572.\u001b[0m\n",
      "\u001b[32m[I 2022-08-30 19:00:22,143]\u001b[0m Trial 3 finished with value: 0.7428571428571429 and parameters: {'learning_rate': 0.0012123671808065863, 'optimizer': 'SGD', 'n_layers': 4, 'n_units_l0': 7, 'n_units_l1': 7, 'n_units_l2': 7, 'n_units_l3': 10}. Best is trial 1 with value: 0.8071428571428572.\u001b[0m\n",
      "\u001b[32m[I 2022-08-30 19:00:32,969]\u001b[0m Trial 4 finished with value: 0.8071428571428572 and parameters: {'learning_rate': 0.002976738430905491, 'optimizer': 'RMSprop', 'n_layers': 2, 'n_units_l0': 7, 'n_units_l1': 8}. Best is trial 1 with value: 0.8071428571428572.\u001b[0m\n",
      "\u001b[32m[I 2022-08-30 19:00:33,055]\u001b[0m Trial 5 pruned. \u001b[0m\n",
      "\u001b[32m[I 2022-08-30 19:00:48,044]\u001b[0m Trial 6 finished with value: 0.75 and parameters: {'learning_rate': 8.117003416032021e-05, 'optimizer': 'RMSprop', 'n_layers': 4, 'n_units_l0': 9, 'n_units_l1': 6, 'n_units_l2': 4, 'n_units_l3': 7}. Best is trial 1 with value: 0.8071428571428572.\u001b[0m\n",
      "\u001b[32m[I 2022-08-30 19:00:48,175]\u001b[0m Trial 7 pruned. \u001b[0m\n",
      "\u001b[32m[I 2022-08-30 19:00:48,270]\u001b[0m Trial 8 pruned. \u001b[0m\n",
      "\u001b[32m[I 2022-08-30 19:00:48,374]\u001b[0m Trial 9 pruned. \u001b[0m\n",
      "\u001b[32m[I 2022-08-30 19:01:01,374]\u001b[0m Trial 10 finished with value: 0.7928571428571428 and parameters: {'learning_rate': 0.0824749466242457, 'optimizer': 'RMSprop', 'n_layers': 3, 'n_units_l0': 4, 'n_units_l1': 4, 'n_units_l2': 10}. Best is trial 1 with value: 0.8071428571428572.\u001b[0m\n",
      "\u001b[32m[I 2022-08-30 19:01:01,480]\u001b[0m Trial 11 pruned. \u001b[0m\n",
      "\u001b[32m[I 2022-08-30 19:01:01,595]\u001b[0m Trial 12 pruned. \u001b[0m\n",
      "\u001b[32m[I 2022-08-30 19:01:12,432]\u001b[0m Trial 13 finished with value: 0.7785714285714286 and parameters: {'learning_rate': 0.01118712790047649, 'optimizer': 'RMSprop', 'n_layers': 2, 'n_units_l0': 6, 'n_units_l1': 6}. Best is trial 1 with value: 0.8071428571428572.\u001b[0m\n",
      "\u001b[32m[I 2022-08-30 19:01:12,545]\u001b[0m Trial 14 pruned. \u001b[0m\n",
      "\u001b[32m[I 2022-08-30 19:01:12,659]\u001b[0m Trial 15 pruned. \u001b[0m\n",
      "\u001b[32m[I 2022-08-30 19:01:12,775]\u001b[0m Trial 16 pruned. \u001b[0m\n",
      "\u001b[32m[I 2022-08-30 19:01:12,948]\u001b[0m Trial 17 pruned. \u001b[0m\n",
      "\u001b[32m[I 2022-08-30 19:01:13,032]\u001b[0m Trial 18 pruned. \u001b[0m\n",
      "\u001b[32m[I 2022-08-30 19:01:13,156]\u001b[0m Trial 19 pruned. \u001b[0m\n",
      "\u001b[32m[I 2022-08-30 19:01:23,963]\u001b[0m Trial 20 finished with value: 0.7785714285714286 and parameters: {'learning_rate': 0.01434953346794466, 'optimizer': 'RMSprop', 'n_layers': 2, 'n_units_l0': 6, 'n_units_l1': 5}. Best is trial 1 with value: 0.8071428571428572.\u001b[0m\n",
      "\u001b[32m[I 2022-08-30 19:01:24,094]\u001b[0m Trial 21 pruned. \u001b[0m\n",
      "\u001b[32m[I 2022-08-30 19:01:24,233]\u001b[0m Trial 22 pruned. \u001b[0m\n",
      "\u001b[32m[I 2022-08-30 19:01:24,347]\u001b[0m Trial 23 pruned. \u001b[0m\n"
     ]
    },
    {
     "name": "stderr",
     "output_type": "stream",
     "text": [
      "\u001b[32m[I 2022-08-30 19:01:24,489]\u001b[0m A new study created in memory with name: no-name-5cb92921-51ce-4efe-b99f-0417ca3c7363\u001b[0m\n"
     ]
    },
    {
     "name": "stdout",
     "output_type": "stream",
     "text": [
      "\u001b[32m[I 2022-08-30 19:01:24,485]\u001b[0m Trial 24 pruned. \u001b[0m\n"
     ]
    },
    {
     "name": "stderr",
     "output_type": "stream",
     "text": [
      "c:\\Users\\Mohsen\\anaconda3\\envs\\CLP\\lib\\site-packages\\optuna\\progress_bar.py:47: ExperimentalWarning: Progress bar is experimental (supported from v1.2.0). The interface can change in the future.\n",
      "  self._init_valid()\n"
     ]
    },
    {
     "data": {
      "application/vnd.jupyter.widget-view+json": {
       "model_id": "3416d508259743eaa179294d635e3d2d",
       "version_major": 2,
       "version_minor": 0
      },
      "text/plain": [
       "  0%|          | 0/25 [00:00<?, ?it/s]"
      ]
     },
     "metadata": {},
     "output_type": "display_data"
    },
    {
     "name": "stdout",
     "output_type": "stream",
     "text": [
      "\u001b[32m[I 2022-08-30 19:01:31,594]\u001b[0m Trial 0 finished with value: 0.7571428571428571 and parameters: {'learning_rate': 0.0031961931036177706, 'optimizer': 'SGD', 'n_layers': 5, 'n_units_l0': 9, 'n_units_l1': 10, 'n_units_l2': 6, 'n_units_l3': 8, 'n_units_l4': 10}. Best is trial 0 with value: 0.7571428571428571.\u001b[0m\n",
      "\u001b[32m[I 2022-08-30 19:01:40,601]\u001b[0m Trial 1 finished with value: 0.7785714285714286 and parameters: {'learning_rate': 0.0005017497384116035, 'optimizer': 'RMSprop', 'n_layers': 5, 'n_units_l0': 9, 'n_units_l1': 10, 'n_units_l2': 4, 'n_units_l3': 9, 'n_units_l4': 6}. Best is trial 1 with value: 0.7785714285714286.\u001b[0m\n",
      "\u001b[32m[I 2022-08-30 19:01:46,381]\u001b[0m Trial 2 finished with value: 0.6714285714285714 and parameters: {'learning_rate': 0.031405737786068186, 'optimizer': 'SGD', 'n_layers': 3, 'n_units_l0': 7, 'n_units_l1': 10, 'n_units_l2': 10}. Best is trial 1 with value: 0.7785714285714286.\u001b[0m\n",
      "\u001b[32m[I 2022-08-30 19:01:53,468]\u001b[0m Trial 3 finished with value: 0.2571428571428571 and parameters: {'learning_rate': 0.002419523968451458, 'optimizer': 'SGD', 'n_layers': 5, 'n_units_l0': 4, 'n_units_l1': 7, 'n_units_l2': 7, 'n_units_l3': 5, 'n_units_l4': 7}. Best is trial 1 with value: 0.7785714285714286.\u001b[0m\n",
      "\u001b[32m[I 2022-08-30 19:01:59,382]\u001b[0m Trial 4 finished with value: 0.7357142857142858 and parameters: {'learning_rate': 0.0005615859182037841, 'optimizer': 'SGD', 'n_layers': 3, 'n_units_l0': 4, 'n_units_l1': 6, 'n_units_l2': 6}. Best is trial 1 with value: 0.7785714285714286.\u001b[0m\n",
      "\u001b[32m[I 2022-08-30 19:02:05,243]\u001b[0m Trial 5 finished with value: 0.7642857142857142 and parameters: {'learning_rate': 0.09714604447204798, 'optimizer': 'SGD', 'n_layers': 3, 'n_units_l0': 10, 'n_units_l1': 10, 'n_units_l2': 9}. Best is trial 1 with value: 0.7785714285714286.\u001b[0m\n",
      "\u001b[32m[I 2022-08-30 19:02:05,319]\u001b[0m Trial 6 pruned. \u001b[0m\n",
      "\u001b[32m[I 2022-08-30 19:02:05,375]\u001b[0m Trial 7 pruned. \u001b[0m\n",
      "\u001b[32m[I 2022-08-30 19:02:05,436]\u001b[0m Trial 8 pruned. \u001b[0m\n",
      "\u001b[32m[I 2022-08-30 19:02:05,496]\u001b[0m Trial 9 pruned. \u001b[0m\n",
      "\u001b[32m[I 2022-08-30 19:02:08,710]\u001b[0m Trial 10 pruned. \u001b[0m\n",
      "\u001b[32m[I 2022-08-30 19:02:16,886]\u001b[0m Trial 11 finished with value: 0.8142857142857143 and parameters: {'learning_rate': 0.04050872833485713, 'optimizer': 'RMSprop', 'n_layers': 4, 'n_units_l0': 10, 'n_units_l1': 9, 'n_units_l2': 9, 'n_units_l3': 10}. Best is trial 11 with value: 0.8142857142857143.\u001b[0m\n",
      "\u001b[32m[I 2022-08-30 19:02:25,096]\u001b[0m Trial 12 finished with value: 0.7428571428571429 and parameters: {'learning_rate': 0.011284804666525018, 'optimizer': 'RMSprop', 'n_layers': 4, 'n_units_l0': 9, 'n_units_l1': 8, 'n_units_l2': 8, 'n_units_l3': 10}. Best is trial 11 with value: 0.8142857142857143.\u001b[0m\n",
      "\u001b[32m[I 2022-08-30 19:02:25,180]\u001b[0m Trial 13 pruned. \u001b[0m\n",
      "\u001b[32m[I 2022-08-30 19:02:34,355]\u001b[0m Trial 14 finished with value: 0.7357142857142858 and parameters: {'learning_rate': 0.014558054456538861, 'optimizer': 'RMSprop', 'n_layers': 5, 'n_units_l0': 10, 'n_units_l1': 9, 'n_units_l2': 8, 'n_units_l3': 9, 'n_units_l4': 6}. Best is trial 11 with value: 0.8142857142857143.\u001b[0m\n",
      "\u001b[32m[I 2022-08-30 19:02:42,440]\u001b[0m Trial 15 finished with value: 0.8214285714285714 and parameters: {'learning_rate': 0.00031148122514964335, 'optimizer': 'RMSprop', 'n_layers': 4, 'n_units_l0': 8, 'n_units_l1': 9, 'n_units_l2': 9, 'n_units_l3': 7}. Best is trial 15 with value: 0.8214285714285714.\u001b[0m\n",
      "\u001b[32m[I 2022-08-30 19:02:42,533]\u001b[0m Trial 16 pruned. \u001b[0m\n",
      "\u001b[32m[I 2022-08-30 19:02:49,640]\u001b[0m Trial 17 finished with value: 0.7285714285714285 and parameters: {'learning_rate': 0.05033583545453798, 'optimizer': 'Adam', 'n_layers': 2, 'n_units_l0': 8, 'n_units_l1': 9}. Best is trial 15 with value: 0.8214285714285714.\u001b[0m\n",
      "\u001b[32m[I 2022-08-30 19:02:49,734]\u001b[0m Trial 18 pruned. \u001b[0m\n",
      "\u001b[32m[I 2022-08-30 19:02:49,816]\u001b[0m Trial 19 pruned. \u001b[0m\n",
      "\u001b[32m[I 2022-08-30 19:02:49,917]\u001b[0m Trial 20 pruned. \u001b[0m\n",
      "\u001b[32m[I 2022-08-30 19:02:50,010]\u001b[0m Trial 21 pruned. \u001b[0m\n",
      "\u001b[32m[I 2022-08-30 19:02:50,115]\u001b[0m Trial 22 pruned. \u001b[0m\n",
      "\u001b[32m[I 2022-08-30 19:02:58,212]\u001b[0m Trial 23 finished with value: 0.7857142857142857 and parameters: {'learning_rate': 0.000980603826280688, 'optimizer': 'RMSprop', 'n_layers': 4, 'n_units_l0': 9, 'n_units_l1': 10, 'n_units_l2': 5, 'n_units_l3': 10}. Best is trial 15 with value: 0.8214285714285714.\u001b[0m\n",
      "\u001b[32m[I 2022-08-30 19:03:06,336]\u001b[0m Trial 24 finished with value: 0.8 and parameters: {'learning_rate': 0.0010461377198794507, 'optimizer': 'RMSprop', 'n_layers': 4, 'n_units_l0': 8, 'n_units_l1': 9, 'n_units_l2': 5, 'n_units_l3': 10}. Best is trial 15 with value: 0.8214285714285714.\u001b[0m\n",
      "Study report:\n",
      "\tepoch steps = 30, epoch counts = 5\n",
      "\tbatch start = 4, batch counts = 5\n",
      "\n",
      "Study 0:\tn_epoch = 30, batch_size = 4\n",
      "\tAccuracy = 0.8428571428571429\n",
      "Study 1:\tn_epoch = 30, batch_size = 8\n",
      "\tAccuracy = 0.8285714285714286\n",
      "Study 2:\tn_epoch = 30, batch_size = 16\n",
      "\tAccuracy = 0.8142857142857143\n",
      "Study 3:\tn_epoch = 30, batch_size = 32\n",
      "\tAccuracy = 0.8\n",
      "Study 4:\tn_epoch = 30, batch_size = 64\n",
      "\tAccuracy = 0.8428571428571429\n",
      "Study 5:\tn_epoch = 60, batch_size = 4\n",
      "\tAccuracy = 0.8571428571428571\n",
      "Study 6:\tn_epoch = 60, batch_size = 8\n",
      "\tAccuracy = 0.8142857142857143\n",
      "Study 7:\tn_epoch = 60, batch_size = 16\n",
      "\tAccuracy = 0.8071428571428572\n",
      "Study 8:\tn_epoch = 60, batch_size = 32\n",
      "\tAccuracy = 0.7928571428571428\n",
      "Study 9:\tn_epoch = 60, batch_size = 64\n",
      "\tAccuracy = 0.8142857142857143\n",
      "Study 10:\tn_epoch = 90, batch_size = 4\n",
      "\tAccuracy = 0.8214285714285714\n",
      "Study 11:\tn_epoch = 90, batch_size = 8\n",
      "\tAccuracy = 0.8142857142857143\n",
      "Study 12:\tn_epoch = 90, batch_size = 16\n",
      "\tAccuracy = 0.8428571428571429\n",
      "Study 13:\tn_epoch = 90, batch_size = 32\n",
      "\tAccuracy = 0.8214285714285714\n",
      "Study 14:\tn_epoch = 90, batch_size = 64\n",
      "\tAccuracy = 0.8571428571428571\n",
      "Study 15:\tn_epoch = 120, batch_size = 4\n",
      "\tAccuracy = 0.8285714285714286\n",
      "Study 16:\tn_epoch = 120, batch_size = 8\n",
      "\tAccuracy = 0.85\n",
      "Study 17:\tn_epoch = 120, batch_size = 16\n",
      "\tAccuracy = 0.8285714285714286\n",
      "Study 18:\tn_epoch = 120, batch_size = 32\n",
      "\tAccuracy = 0.8142857142857143\n",
      "Study 19:\tn_epoch = 120, batch_size = 64\n",
      "\tAccuracy = 0.8642857142857143\n",
      "Study 20:\tn_epoch = 150, batch_size = 4\n",
      "\tAccuracy = 0.8285714285714286\n",
      "Study 21:\tn_epoch = 150, batch_size = 8\n",
      "\tAccuracy = 0.8214285714285714\n",
      "Study 22:\tn_epoch = 150, batch_size = 16\n",
      "\tAccuracy = 0.8214285714285714\n",
      "Study 23:\tn_epoch = 150, batch_size = 32\n",
      "\tAccuracy = 0.8071428571428572\n",
      "Study 24:\tn_epoch = 150, batch_size = 64\n",
      "\tAccuracy = 0.8214285714285714\n"
     ]
    }
   ],
   "source": [
    "bests = []\n",
    "\n",
    "epoch_step = 30\n",
    "epoch_count = 5\n",
    "batch_count = 5\n",
    "batch_start = 4\n",
    "epoch_sizes = [i*epoch_step for i in range(1,epoch_count+1)]\n",
    "batch_sizes = [batch_start * (2**i) for i in range(batch_count)]\n",
    "study_index = 0\n",
    "for e in epoch_sizes:\n",
    "    for b in batch_sizes:\n",
    "        models = dict()\n",
    "        models['accuracy'] = 0\n",
    "        study = optuna.create_study(direction=\"maximize\", sampler=optuna.samplers.TPESampler(), pruner=optuna.pruners.MedianPruner())\n",
    "        study.optimize(lambda trial: objective(trial, e, b), n_trials=25\n",
    "                        , show_progress_bar=True)\n",
    "        best_params = study.best_trial\n",
    "        param_dict = best_params.params\n",
    "\n",
    "        params_dict = dict()\n",
    "\n",
    "        best_model_index = best_params.number\n",
    "        params_dict['model'] = models['model']\n",
    "\n",
    "        params_dict['study_number'] = study_index\n",
    "        study_index += 1\n",
    "\n",
    "        params_dict['params'] = param_dict\n",
    "        params_dict['accuracy'] = best_params.value\n",
    "        params_dict['n_epoch'] = e\n",
    "        params_dict['batch_size'] = b\n",
    "\n",
    "        bests.append(params_dict)\n",
    "\n",
    "print(f\"Study report:\\n\\t\"\n",
    "    + f\"epoch steps = {epoch_step}, epoch counts = {epoch_count}\\n\\t\"\n",
    "    + f\"batch start = {batch_start}, batch counts = {batch_count}\", end='\\n\\n')\n",
    "\n",
    "for i in range(len(bests)):\n",
    "    print(f\"Study {i}:\\tn_epoch = {bests[i]['n_epoch']}, batch_size = {bests[i]['batch_size']}\")\n",
    "    print(f\"\\tAccuracy = {bests[i]['accuracy']}\")"
   ]
  },
  {
   "cell_type": "code",
   "execution_count": 8,
   "metadata": {},
   "outputs": [
    {
     "name": "stdout",
     "output_type": "stream",
     "text": [
      "Final model:\n",
      "\tAccuracy: 0.8642857142857143\n",
      "\tModel Saved Path: \n"
     ]
    }
   ],
   "source": [
    "max_index = 0\n",
    "for i in range(1, len(bests)):\n",
    "    if bests[i]['accuracy'] > bests[max_index]['accuracy']: max_index = i\n",
    "\n",
    "best_case = bests[max_index]\n",
    "best_params = best_case['params']\n",
    "best_model = best_case['model']\n",
    "\n",
    "torch.save({\n",
    "    'model_state_dict': best_model.state_dict(),\n",
    "    'accuracy': best_case['accuracy'],\n",
    "    'architecture': best_params \n",
    "    }, 'Models\\\\customer_loyalty_prediction.pt')\n",
    "\n",
    "print(f\"Final model:\\n\\t\"\n",
    "    + f\"Accuracy: {best_case['accuracy']}\\n\\t\"\n",
    "    + f\"Model Saved Path: \")"
   ]
  }
 ],
 "metadata": {
  "kernelspec": {
   "display_name": "Python 3.10.4 ('CLP')",
   "language": "python",
   "name": "python3"
  },
  "language_info": {
   "codemirror_mode": {
    "name": "ipython",
    "version": 3
   },
   "file_extension": ".py",
   "mimetype": "text/x-python",
   "name": "python",
   "nbconvert_exporter": "python",
   "pygments_lexer": "ipython3",
   "version": "3.10.4"
  },
  "orig_nbformat": 4,
  "vscode": {
   "interpreter": {
    "hash": "9fd8e93d66050a205cb7f64389af9f13c9c81ade6ed89497904bd8d3e012a9c5"
   }
  }
 },
 "nbformat": 4,
 "nbformat_minor": 2
}
